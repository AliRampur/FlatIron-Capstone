{
 "cells": [
  {
   "cell_type": "markdown",
   "metadata": {},
   "source": [
    "# Business Problem: Predicting Fraudulent Payment Transactions"
   ]
  },
  {
   "cell_type": "markdown",
   "metadata": {},
   "source": [
    "Fitris Law has an online retail client who is losing over 10% of annual revenue to fraudulent payments via its online payment portal, which is significantly higher than the industry average (5%).\n",
    "\n",
    "They have asked my firm to develop a model that will identify potentially fraudulent payments and rank these transactions at the end of each weekly period. \n",
    "\n",
    "Using historical payment data extracted from their payment system, I can develop a classification prediction model to identify potential fraudulent transactions (i.e. payments) made by customers.\n",
    "\n",
    "Although this model is built on payment data for a specified location and contains fields that may not readily be available in other transactional datasets, a similar model can be built for various types of electronic/ACH, credit card, online, P2P transactions, etc.\n",
    "\n",
    "The source transactional data was extracted from Kaggle contributor: https://www.kaggle.com/turkayavci\n"
   ]
  },
  {
   "cell_type": "code",
   "execution_count": 1,
   "metadata": {},
   "outputs": [
    {
     "name": "stderr",
     "output_type": "stream",
     "text": [
      "C:\\Users\\alira\\Anaconda3\\envs\\learn-env\\lib\\site-packages\\thefuzz\\fuzz.py:11: UserWarning: Using slow pure-python SequenceMatcher. Install python-Levenshtein to remove this warning\n",
      "  warnings.warn('Using slow pure-python SequenceMatcher. Install python-Levenshtein to remove this warning')\n"
     ]
    }
   ],
   "source": [
    "#import the necessary libraries\n",
    "\n",
    "import numpy as np\n",
    "import pandas as pd\n",
    "import xlrd\n",
    "import os\n",
    "import seaborn as sns\n",
    "from matplotlib import pyplot as plt\n",
    "\n",
    "from sklearn.model_selection import train_test_split, GridSearchCV, cross_val_score\n",
    "from sklearn.linear_model import LogisticRegression, LinearRegression\n",
    "from sklearn.neighbors import KNeighborsClassifier, KNeighborsRegressor\n",
    "from sklearn.tree import DecisionTreeClassifier, DecisionTreeRegressor\n",
    "from sklearn.ensemble import BaggingClassifier, RandomForestClassifier, \\\n",
    "ExtraTreesClassifier, VotingClassifier, StackingRegressor, GradientBoostingClassifier, AdaBoostClassifier\n",
    "from sklearn.metrics import plot_confusion_matrix, recall_score,\\\n",
    "    accuracy_score, precision_score, f1_score\n",
    "from sklearn.metrics import classification_report\n",
    "from sklearn.preprocessing import OneHotEncoder, StandardScaler, FunctionTransformer\n",
    "from sklearn.impute import SimpleImputer\n",
    "from sklearn.pipeline import Pipeline\n",
    "from sklearn.compose import ColumnTransformer,  make_column_selector as selector\n",
    "from sklearn.dummy import DummyClassifier\n",
    "from imblearn.over_sampling import SMOTE\n",
    "from imblearn.pipeline import Pipeline as ImPipeline\n",
    "from imblearn.over_sampling import SMOTENC\n",
    "import pickle\n",
    "\n",
    "import requests\n",
    "from bs4 import BeautifulSoup\n",
    "import pandas as pd\n",
    "\n",
    "from thefuzz import fuzz, process"
   ]
  },
  {
   "cell_type": "markdown",
   "metadata": {},
   "source": [
    "## 1. EDA: Exploratory Data Analysis"
   ]
  },
  {
   "cell_type": "markdown",
   "metadata": {},
   "source": [
    "The first step in the modeling process is to perform exploratory data analysis. This includes:\n",
    "   - Understanding the total quantity of transactions available\n",
    "   - Identifying the variables that are available in the data, and whether they are binary, continuous or categorical\n",
    "   - Identifying whether any null values or NAs exist within the dataset that need to be removed or replaced\n",
    "   - Performing inferential analysis on certain variables. In this case, I will analyze the level of fraud by category, gender and age group\n",
    "   - Analyzing the target variable for potential class imbalance\n",
    "    "
   ]
  },
  {
   "cell_type": "code",
   "execution_count": 39,
   "metadata": {},
   "outputs": [
    {
     "data": {
      "text/html": [
       "<div>\n",
       "<style scoped>\n",
       "    .dataframe tbody tr th:only-of-type {\n",
       "        vertical-align: middle;\n",
       "    }\n",
       "\n",
       "    .dataframe tbody tr th {\n",
       "        vertical-align: top;\n",
       "    }\n",
       "\n",
       "    .dataframe thead th {\n",
       "        text-align: right;\n",
       "    }\n",
       "</style>\n",
       "<table border=\"1\" class=\"dataframe\">\n",
       "  <thead>\n",
       "    <tr style=\"text-align: right;\">\n",
       "      <th></th>\n",
       "      <th>step</th>\n",
       "      <th>customer</th>\n",
       "      <th>age</th>\n",
       "      <th>gender</th>\n",
       "      <th>zipcodeOri</th>\n",
       "      <th>merchant</th>\n",
       "      <th>zipMerchant</th>\n",
       "      <th>category</th>\n",
       "      <th>amount</th>\n",
       "      <th>fraud</th>\n",
       "    </tr>\n",
       "  </thead>\n",
       "  <tbody>\n",
       "    <tr>\n",
       "      <th>0</th>\n",
       "      <td>0</td>\n",
       "      <td>'C1093826151'</td>\n",
       "      <td>'4'</td>\n",
       "      <td>'M'</td>\n",
       "      <td>'28007'</td>\n",
       "      <td>'M348934600'</td>\n",
       "      <td>'28007'</td>\n",
       "      <td>'es_transportation'</td>\n",
       "      <td>4.55</td>\n",
       "      <td>0</td>\n",
       "    </tr>\n",
       "    <tr>\n",
       "      <th>1</th>\n",
       "      <td>0</td>\n",
       "      <td>'C352968107'</td>\n",
       "      <td>'2'</td>\n",
       "      <td>'M'</td>\n",
       "      <td>'28007'</td>\n",
       "      <td>'M348934600'</td>\n",
       "      <td>'28007'</td>\n",
       "      <td>'es_transportation'</td>\n",
       "      <td>39.68</td>\n",
       "      <td>0</td>\n",
       "    </tr>\n",
       "    <tr>\n",
       "      <th>2</th>\n",
       "      <td>0</td>\n",
       "      <td>'C2054744914'</td>\n",
       "      <td>'4'</td>\n",
       "      <td>'F'</td>\n",
       "      <td>'28007'</td>\n",
       "      <td>'M1823072687'</td>\n",
       "      <td>'28007'</td>\n",
       "      <td>'es_transportation'</td>\n",
       "      <td>26.89</td>\n",
       "      <td>0</td>\n",
       "    </tr>\n",
       "    <tr>\n",
       "      <th>3</th>\n",
       "      <td>0</td>\n",
       "      <td>'C1760612790'</td>\n",
       "      <td>'3'</td>\n",
       "      <td>'M'</td>\n",
       "      <td>'28007'</td>\n",
       "      <td>'M348934600'</td>\n",
       "      <td>'28007'</td>\n",
       "      <td>'es_transportation'</td>\n",
       "      <td>17.25</td>\n",
       "      <td>0</td>\n",
       "    </tr>\n",
       "    <tr>\n",
       "      <th>4</th>\n",
       "      <td>0</td>\n",
       "      <td>'C757503768'</td>\n",
       "      <td>'5'</td>\n",
       "      <td>'M'</td>\n",
       "      <td>'28007'</td>\n",
       "      <td>'M348934600'</td>\n",
       "      <td>'28007'</td>\n",
       "      <td>'es_transportation'</td>\n",
       "      <td>35.72</td>\n",
       "      <td>0</td>\n",
       "    </tr>\n",
       "  </tbody>\n",
       "</table>\n",
       "</div>"
      ],
      "text/plain": [
       "   step       customer  age gender zipcodeOri       merchant zipMerchant  \\\n",
       "0     0  'C1093826151'  '4'    'M'    '28007'   'M348934600'     '28007'   \n",
       "1     0   'C352968107'  '2'    'M'    '28007'   'M348934600'     '28007'   \n",
       "2     0  'C2054744914'  '4'    'F'    '28007'  'M1823072687'     '28007'   \n",
       "3     0  'C1760612790'  '3'    'M'    '28007'   'M348934600'     '28007'   \n",
       "4     0   'C757503768'  '5'    'M'    '28007'   'M348934600'     '28007'   \n",
       "\n",
       "              category  amount  fraud  \n",
       "0  'es_transportation'    4.55      0  \n",
       "1  'es_transportation'   39.68      0  \n",
       "2  'es_transportation'   26.89      0  \n",
       "3  'es_transportation'   17.25      0  \n",
       "4  'es_transportation'   35.72      0  "
      ]
     },
     "execution_count": 39,
     "metadata": {},
     "output_type": "execute_result"
    }
   ],
   "source": [
    "bankdata_df_orig = pd.read_csv(\"./bs140513_032310_csv.csv\")\n",
    "bankdata_df_orig.head(5)"
   ]
  },
  {
   "cell_type": "markdown",
   "metadata": {},
   "source": [
    "### Data Dictionary:\n",
    "\n",
    "_Step:_ This feature represents the day from the start of the data aggregation. It covers a period of 6 months.\n",
    "\n",
    "_Customer:_ Customer id\n",
    "\n",
    "_zipCodeOrigin:_ The zip code of origin/source.\n",
    "\n",
    "_Merchant:_ The merchant id\n",
    "\n",
    "_zipMerchant:_ The merchant zip code\n",
    "\n",
    "_Age:_ Categorized age\n",
    "0: <= 18,\n",
    "1: 19-25,\n",
    "2: 26-35,\n",
    "3: 36-45,\n",
    "4: 46:55,\n",
    "5: 56:65,\n",
    "6: > 65\n",
    "U: Unknown\n",
    "\n",
    "_Gender:_ \n",
    "E : Enterprise\n",
    "F: Female\n",
    "M: Male\n",
    "U: Unknown\n",
    "\n",
    "_Category:_ Category of the purchase\n",
    "\n",
    "_Amount:_ Amount of the purchase\n",
    "\n",
    "_Fraud:_ Target - fraudulent(1) or not(0)"
   ]
  },
  {
   "cell_type": "markdown",
   "metadata": {},
   "source": [
    "Due to volume of transactions in the dataset and the limited amount of RAM on my personal device, I had to randomly sample 100,000 payment transactions from the original source data. The original dataset had 7,200 fraudulent transactions whereas the sampled dataset used for my model has 1,198. Both the original and sampled dataset have approximately 1.2% fraudulent tranactions."
   ]
  },
  {
   "cell_type": "code",
   "execution_count": 40,
   "metadata": {},
   "outputs": [],
   "source": [
    "bankdata_df = bankdata_df_orig.sample(n=100000, random_state=42)"
   ]
  },
  {
   "cell_type": "code",
   "execution_count": 41,
   "metadata": {},
   "outputs": [
    {
     "data": {
      "text/plain": [
       "step           7200\n",
       "customer       7200\n",
       "age            7200\n",
       "gender         7200\n",
       "zipcodeOri     7200\n",
       "merchant       7200\n",
       "zipMerchant    7200\n",
       "category       7200\n",
       "amount         7200\n",
       "fraud          7200\n",
       "dtype: int64"
      ]
     },
     "execution_count": 41,
     "metadata": {},
     "output_type": "execute_result"
    }
   ],
   "source": [
    "bankdata_df_orig[bankdata_df_orig['fraud'] == 1].count()"
   ]
  },
  {
   "cell_type": "code",
   "execution_count": 42,
   "metadata": {},
   "outputs": [
    {
     "data": {
      "text/plain": [
       "step           1198\n",
       "customer       1198\n",
       "age            1198\n",
       "gender         1198\n",
       "zipcodeOri     1198\n",
       "merchant       1198\n",
       "zipMerchant    1198\n",
       "category       1198\n",
       "amount         1198\n",
       "fraud          1198\n",
       "dtype: int64"
      ]
     },
     "execution_count": 42,
     "metadata": {},
     "output_type": "execute_result"
    }
   ],
   "source": [
    "bankdata_df[bankdata_df['fraud'] == 1].count()"
   ]
  },
  {
   "cell_type": "code",
   "execution_count": 43,
   "metadata": {},
   "outputs": [
    {
     "name": "stdout",
     "output_type": "stream",
     "text": [
      "<class 'pandas.core.frame.DataFrame'>\n",
      "Int64Index: 100000 entries, 70803 to 234341\n",
      "Data columns (total 10 columns):\n",
      " #   Column       Non-Null Count   Dtype  \n",
      "---  ------       --------------   -----  \n",
      " 0   step         100000 non-null  int64  \n",
      " 1   customer     100000 non-null  object \n",
      " 2   age          100000 non-null  object \n",
      " 3   gender       100000 non-null  object \n",
      " 4   zipcodeOri   100000 non-null  object \n",
      " 5   merchant     100000 non-null  object \n",
      " 6   zipMerchant  100000 non-null  object \n",
      " 7   category     100000 non-null  object \n",
      " 8   amount       100000 non-null  float64\n",
      " 9   fraud        100000 non-null  int64  \n",
      "dtypes: float64(1), int64(2), object(7)\n",
      "memory usage: 8.4+ MB\n"
     ]
    }
   ],
   "source": [
    "bankdata_df.info()"
   ]
  },
  {
   "cell_type": "code",
   "execution_count": 44,
   "metadata": {},
   "outputs": [
    {
     "data": {
      "text/plain": [
       "0   0.99\n",
       "1   0.01\n",
       "Name: fraud, dtype: float64"
      ]
     },
     "execution_count": 44,
     "metadata": {},
     "output_type": "execute_result"
    }
   ],
   "source": [
    "bankdata_df['fraud'].value_counts(normalize=True)"
   ]
  },
  {
   "cell_type": "code",
   "execution_count": 45,
   "metadata": {},
   "outputs": [
    {
     "data": {
      "text/plain": [
       "0    98802\n",
       "1     1198\n",
       "Name: fraud, dtype: int64"
      ]
     },
     "execution_count": 45,
     "metadata": {},
     "output_type": "execute_result"
    }
   ],
   "source": [
    "bankdata_df['fraud'].value_counts()"
   ]
  },
  {
   "cell_type": "markdown",
   "metadata": {},
   "source": [
    "We can see that only 1.2% of the payments were identified as being fraudulent. This is a clear imbalanced dataset which I will have to address prior to building a predictive model."
   ]
  },
  {
   "cell_type": "code",
   "execution_count": 46,
   "metadata": {},
   "outputs": [
    {
     "data": {
      "text/plain": [
       "category\n",
       "'es_transportation'       2295218.78\n",
       "'es_health'                369949.82\n",
       "'es_travel'                249177.60\n",
       "'es_food'                  165032.61\n",
       "'es_wellnessandbeauty'     163941.81\n",
       "'es_sportsandtoys'         146861.53\n",
       "'es_fashion'                69185.68\n",
       "'es_hotelservices'          60030.01\n",
       "'es_home'                   57511.34\n",
       "'es_tech'                   49596.81\n",
       "'es_hyper'                  48566.30\n",
       "'es_barsandrestaurants'     43598.62\n",
       "'es_leisure'                22388.79\n",
       "'es_otherservices'          21319.17\n",
       "'es_contents'                6437.92\n",
       "Name: amount, dtype: float64"
      ]
     },
     "execution_count": 46,
     "metadata": {},
     "output_type": "execute_result"
    }
   ],
   "source": [
    "bankdata_df.groupby('category')['amount'].sum().sort_values(ascending=False)"
   ]
  },
  {
   "cell_type": "code",
   "execution_count": 47,
   "metadata": {},
   "outputs": [
    {
     "name": "stderr",
     "output_type": "stream",
     "text": [
      "<ipython-input-47-f824a1c2cb23>:1: FutureWarning: Indexing with multiple keys (implicitly converted to a tuple of keys) will be deprecated, use a list instead.\n",
      "  bankdata_df[bankdata_df['fraud']== 1].groupby('category')['amount','fraud'].sum().sort_values(by='amount',ascending=False)\n"
     ]
    },
    {
     "data": {
      "text/html": [
       "<div>\n",
       "<style scoped>\n",
       "    .dataframe tbody tr th:only-of-type {\n",
       "        vertical-align: middle;\n",
       "    }\n",
       "\n",
       "    .dataframe tbody tr th {\n",
       "        vertical-align: top;\n",
       "    }\n",
       "\n",
       "    .dataframe thead th {\n",
       "        text-align: right;\n",
       "    }\n",
       "</style>\n",
       "<table border=\"1\" class=\"dataframe\">\n",
       "  <thead>\n",
       "    <tr style=\"text-align: right;\">\n",
       "      <th></th>\n",
       "      <th>amount</th>\n",
       "      <th>fraud</th>\n",
       "    </tr>\n",
       "    <tr>\n",
       "      <th>category</th>\n",
       "      <th></th>\n",
       "      <th></th>\n",
       "    </tr>\n",
       "  </thead>\n",
       "  <tbody>\n",
       "    <tr>\n",
       "      <th>'es_travel'</th>\n",
       "      <td>232958.77</td>\n",
       "      <td>90</td>\n",
       "    </tr>\n",
       "    <tr>\n",
       "      <th>'es_health'</th>\n",
       "      <td>126534.35</td>\n",
       "      <td>298</td>\n",
       "    </tr>\n",
       "    <tr>\n",
       "      <th>'es_sportsandtoys'</th>\n",
       "      <td>117447.41</td>\n",
       "      <td>336</td>\n",
       "    </tr>\n",
       "    <tr>\n",
       "      <th>'es_hotelservices'</th>\n",
       "      <td>40521.05</td>\n",
       "      <td>95</td>\n",
       "    </tr>\n",
       "    <tr>\n",
       "      <th>'es_home'</th>\n",
       "      <td>24552.93</td>\n",
       "      <td>53</td>\n",
       "    </tr>\n",
       "    <tr>\n",
       "      <th>'es_wellnessandbeauty'</th>\n",
       "      <td>23037.69</td>\n",
       "      <td>101</td>\n",
       "    </tr>\n",
       "    <tr>\n",
       "      <th>'es_leisure'</th>\n",
       "      <td>22059.54</td>\n",
       "      <td>77</td>\n",
       "    </tr>\n",
       "    <tr>\n",
       "      <th>'es_otherservices'</th>\n",
       "      <td>12370.10</td>\n",
       "      <td>38</td>\n",
       "    </tr>\n",
       "    <tr>\n",
       "      <th>'es_tech'</th>\n",
       "      <td>12131.77</td>\n",
       "      <td>28</td>\n",
       "    </tr>\n",
       "    <tr>\n",
       "      <th>'es_hyper'</th>\n",
       "      <td>9167.40</td>\n",
       "      <td>47</td>\n",
       "    </tr>\n",
       "    <tr>\n",
       "      <th>'es_fashion'</th>\n",
       "      <td>4011.60</td>\n",
       "      <td>18</td>\n",
       "    </tr>\n",
       "    <tr>\n",
       "      <th>'es_barsandrestaurants'</th>\n",
       "      <td>2633.34</td>\n",
       "      <td>17</td>\n",
       "    </tr>\n",
       "  </tbody>\n",
       "</table>\n",
       "</div>"
      ],
      "text/plain": [
       "                           amount  fraud\n",
       "category                                \n",
       "'es_travel'             232958.77     90\n",
       "'es_health'             126534.35    298\n",
       "'es_sportsandtoys'      117447.41    336\n",
       "'es_hotelservices'       40521.05     95\n",
       "'es_home'                24552.93     53\n",
       "'es_wellnessandbeauty'   23037.69    101\n",
       "'es_leisure'             22059.54     77\n",
       "'es_otherservices'       12370.10     38\n",
       "'es_tech'                12131.77     28\n",
       "'es_hyper'                9167.40     47\n",
       "'es_fashion'              4011.60     18\n",
       "'es_barsandrestaurants'   2633.34     17"
      ]
     },
     "execution_count": 47,
     "metadata": {},
     "output_type": "execute_result"
    }
   ],
   "source": [
    "bankdata_df[bankdata_df['fraud']== 1].groupby('category')['amount','fraud'].sum().sort_values(by='amount',ascending=False)"
   ]
  },
  {
   "cell_type": "code",
   "execution_count": 53,
   "metadata": {},
   "outputs": [
    {
     "data": {
      "text/plain": [
       "category\n",
       "'es_travel'               2588.43\n",
       "'es_home'                  463.26\n",
       "'es_tech'                  433.28\n",
       "'es_hotelservices'         426.54\n",
       "'es_health'                424.61\n",
       "'es_sportsandtoys'         349.55\n",
       "'es_otherservices'         325.53\n",
       "'es_leisure'               286.49\n",
       "'es_wellnessandbeauty'     228.10\n",
       "'es_fashion'               222.87\n",
       "'es_hyper'                 195.05\n",
       "'es_barsandrestaurants'    154.90\n",
       "Name: amount, dtype: float64"
      ]
     },
     "execution_count": 53,
     "metadata": {},
     "output_type": "execute_result"
    }
   ],
   "source": [
    "Avg_fraud_df = bankdata_df[bankdata_df['fraud']== 1].groupby('category')['amount'].mean().sort_values(ascending=False)\n",
    "Avg_fraud_df"
   ]
  },
  {
   "cell_type": "code",
   "execution_count": 49,
   "metadata": {},
   "outputs": [
    {
     "data": {
      "text/plain": [
       "category\n",
       "'es_travel'               648.75\n",
       "'es_home'                 114.44\n",
       "'es_health'               102.84\n",
       "'es_hotelservices'        102.14\n",
       "'es_tech'                 102.08\n",
       "'es_sportsandtoys'         90.23\n",
       "'es_otherservices'         76.49\n",
       "'es_leisure'               65.85\n",
       "'es_fashion'               60.12\n",
       "'es_wellnessandbeauty'     57.58\n",
       "'es_contents'              47.69\n",
       "'es_barsandrestaurants'    41.34\n",
       "'es_hyper'                 38.59\n",
       "'es_food'                  36.65\n",
       "'es_transportation'        27.02\n",
       "Name: amount, dtype: float64"
      ]
     },
     "execution_count": 49,
     "metadata": {},
     "output_type": "execute_result"
    }
   ],
   "source": [
    "bankdata_df[bankdata_df['fraud']== 0].groupby('category')['amount'].mean().sort_values(ascending=False)"
   ]
  },
  {
   "cell_type": "code",
   "execution_count": 56,
   "metadata": {},
   "outputs": [],
   "source": [
    "df_fraud = bankdata_df.loc[bankdata_df.fraud == 1] \n",
    "df_non_fraud = bankdata_df.loc[bankdata_df.fraud == 0]"
   ]
  },
  {
   "cell_type": "code",
   "execution_count": 90,
   "metadata": {},
   "outputs": [],
   "source": [
    "graph_df = pd.concat([df_fraud.groupby('category')['amount'].mean(),df_fraud.groupby('category')['amount'].sum(),df_non_fraud.groupby('category')['amount'].mean(),df_non_fraud.groupby('category')['amount'].sum()],keys=[\"Fraudulent (avg)\",\"Fraudulent (sum)\",\"Not Fraudulent (avg)\",\"Not Fraudulent (sum)\"],axis=1)"
   ]
  },
  {
   "cell_type": "code",
   "execution_count": 91,
   "metadata": {},
   "outputs": [],
   "source": [
    "graph_df = graph_df.reset_index()"
   ]
  },
  {
   "cell_type": "code",
   "execution_count": 92,
   "metadata": {},
   "outputs": [
    {
     "data": {
      "text/html": [
       "<div>\n",
       "<style scoped>\n",
       "    .dataframe tbody tr th:only-of-type {\n",
       "        vertical-align: middle;\n",
       "    }\n",
       "\n",
       "    .dataframe tbody tr th {\n",
       "        vertical-align: top;\n",
       "    }\n",
       "\n",
       "    .dataframe thead th {\n",
       "        text-align: right;\n",
       "    }\n",
       "</style>\n",
       "<table border=\"1\" class=\"dataframe\">\n",
       "  <thead>\n",
       "    <tr style=\"text-align: right;\">\n",
       "      <th></th>\n",
       "      <th>Category</th>\n",
       "      <th>Fraudulent (avg)</th>\n",
       "      <th>Fraudulent (sum)</th>\n",
       "      <th>Not Fraudulent (avg)</th>\n",
       "      <th>Not Fraudulent (sum)</th>\n",
       "    </tr>\n",
       "  </thead>\n",
       "  <tbody>\n",
       "    <tr>\n",
       "      <th>10</th>\n",
       "      <td>'es_travel'</td>\n",
       "      <td>2588.43</td>\n",
       "      <td>232958.77</td>\n",
       "      <td>648.75</td>\n",
       "      <td>16218.83</td>\n",
       "    </tr>\n",
       "    <tr>\n",
       "      <th>3</th>\n",
       "      <td>'es_home'</td>\n",
       "      <td>463.26</td>\n",
       "      <td>24552.93</td>\n",
       "      <td>114.44</td>\n",
       "      <td>32958.41</td>\n",
       "    </tr>\n",
       "    <tr>\n",
       "      <th>9</th>\n",
       "      <td>'es_tech'</td>\n",
       "      <td>433.28</td>\n",
       "      <td>12131.77</td>\n",
       "      <td>102.08</td>\n",
       "      <td>37465.04</td>\n",
       "    </tr>\n",
       "    <tr>\n",
       "      <th>4</th>\n",
       "      <td>'es_hotelservices'</td>\n",
       "      <td>426.54</td>\n",
       "      <td>40521.05</td>\n",
       "      <td>102.14</td>\n",
       "      <td>19508.96</td>\n",
       "    </tr>\n",
       "    <tr>\n",
       "      <th>2</th>\n",
       "      <td>'es_health'</td>\n",
       "      <td>424.61</td>\n",
       "      <td>126534.35</td>\n",
       "      <td>102.84</td>\n",
       "      <td>243415.47</td>\n",
       "    </tr>\n",
       "    <tr>\n",
       "      <th>8</th>\n",
       "      <td>'es_sportsandtoys'</td>\n",
       "      <td>349.55</td>\n",
       "      <td>117447.41</td>\n",
       "      <td>90.23</td>\n",
       "      <td>29414.12</td>\n",
       "    </tr>\n",
       "    <tr>\n",
       "      <th>7</th>\n",
       "      <td>'es_otherservices'</td>\n",
       "      <td>325.53</td>\n",
       "      <td>12370.10</td>\n",
       "      <td>76.49</td>\n",
       "      <td>8949.07</td>\n",
       "    </tr>\n",
       "    <tr>\n",
       "      <th>6</th>\n",
       "      <td>'es_leisure'</td>\n",
       "      <td>286.49</td>\n",
       "      <td>22059.54</td>\n",
       "      <td>65.85</td>\n",
       "      <td>329.25</td>\n",
       "    </tr>\n",
       "    <tr>\n",
       "      <th>11</th>\n",
       "      <td>'es_wellnessandbeauty'</td>\n",
       "      <td>228.10</td>\n",
       "      <td>23037.69</td>\n",
       "      <td>57.58</td>\n",
       "      <td>140904.12</td>\n",
       "    </tr>\n",
       "    <tr>\n",
       "      <th>1</th>\n",
       "      <td>'es_fashion'</td>\n",
       "      <td>222.87</td>\n",
       "      <td>4011.60</td>\n",
       "      <td>60.12</td>\n",
       "      <td>65174.08</td>\n",
       "    </tr>\n",
       "    <tr>\n",
       "      <th>5</th>\n",
       "      <td>'es_hyper'</td>\n",
       "      <td>195.05</td>\n",
       "      <td>9167.40</td>\n",
       "      <td>38.59</td>\n",
       "      <td>39398.90</td>\n",
       "    </tr>\n",
       "    <tr>\n",
       "      <th>0</th>\n",
       "      <td>'es_barsandrestaurants'</td>\n",
       "      <td>154.90</td>\n",
       "      <td>2633.34</td>\n",
       "      <td>41.34</td>\n",
       "      <td>40965.28</td>\n",
       "    </tr>\n",
       "    <tr>\n",
       "      <th>12</th>\n",
       "      <td>'es_contents'</td>\n",
       "      <td>nan</td>\n",
       "      <td>nan</td>\n",
       "      <td>47.69</td>\n",
       "      <td>6437.92</td>\n",
       "    </tr>\n",
       "    <tr>\n",
       "      <th>13</th>\n",
       "      <td>'es_food'</td>\n",
       "      <td>nan</td>\n",
       "      <td>nan</td>\n",
       "      <td>36.65</td>\n",
       "      <td>165032.61</td>\n",
       "    </tr>\n",
       "    <tr>\n",
       "      <th>14</th>\n",
       "      <td>'es_transportation'</td>\n",
       "      <td>nan</td>\n",
       "      <td>nan</td>\n",
       "      <td>27.02</td>\n",
       "      <td>2295218.78</td>\n",
       "    </tr>\n",
       "  </tbody>\n",
       "</table>\n",
       "</div>"
      ],
      "text/plain": [
       "                   Category  Fraudulent (avg)  Fraudulent (sum)  \\\n",
       "10              'es_travel'           2588.43         232958.77   \n",
       "3                 'es_home'            463.26          24552.93   \n",
       "9                 'es_tech'            433.28          12131.77   \n",
       "4        'es_hotelservices'            426.54          40521.05   \n",
       "2               'es_health'            424.61         126534.35   \n",
       "8        'es_sportsandtoys'            349.55         117447.41   \n",
       "7        'es_otherservices'            325.53          12370.10   \n",
       "6              'es_leisure'            286.49          22059.54   \n",
       "11   'es_wellnessandbeauty'            228.10          23037.69   \n",
       "1              'es_fashion'            222.87           4011.60   \n",
       "5                'es_hyper'            195.05           9167.40   \n",
       "0   'es_barsandrestaurants'            154.90           2633.34   \n",
       "12            'es_contents'               nan               nan   \n",
       "13                'es_food'               nan               nan   \n",
       "14      'es_transportation'               nan               nan   \n",
       "\n",
       "    Not Fraudulent (avg)  Not Fraudulent (sum)  \n",
       "10                648.75              16218.83  \n",
       "3                 114.44              32958.41  \n",
       "9                 102.08              37465.04  \n",
       "4                 102.14              19508.96  \n",
       "2                 102.84             243415.47  \n",
       "8                  90.23              29414.12  \n",
       "7                  76.49               8949.07  \n",
       "6                  65.85                329.25  \n",
       "11                 57.58             140904.12  \n",
       "1                  60.12              65174.08  \n",
       "5                  38.59              39398.90  \n",
       "0                  41.34              40965.28  \n",
       "12                 47.69               6437.92  \n",
       "13                 36.65             165032.61  \n",
       "14                 27.02            2295218.78  "
      ]
     },
     "execution_count": 92,
     "metadata": {},
     "output_type": "execute_result"
    }
   ],
   "source": [
    "graph_df = graph_df.rename(columns={\"index\":\"Category\"})\n",
    "graph_df = graph_df.sort_values(by='Fraudulent (avg)', ascending=False)\n",
    "graph_df"
   ]
  },
  {
   "cell_type": "code",
   "execution_count": 50,
   "metadata": {},
   "outputs": [
    {
     "data": {
      "text/plain": [
       "627425.95"
      ]
     },
     "execution_count": 50,
     "metadata": {},
     "output_type": "execute_result"
    }
   ],
   "source": [
    "bankdata_df[bankdata_df['fraud']== 1]['amount'].sum()"
   ]
  },
  {
   "cell_type": "markdown",
   "metadata": {},
   "source": [
    "Looking at the tables above, we can make the following observations on the dataset:\n",
    "- Total fraud across the 100,000 transactions was $627,425.95\n",
    "- The most common (i.e. count) of fraud occurred in the 'sports and toys' category\n",
    "- The most costly (i.e. total dollars ) of fraud occurred in the 'travel' category\n",
    "- The average fraudulent transaction is higher than the average non-fraudulent transaction in every category\n",
    "- There was no fraud identified in the transportation, food, and contents categories.\n"
   ]
  },
  {
   "cell_type": "code",
   "execution_count": 51,
   "metadata": {},
   "outputs": [
    {
     "data": {
      "text/plain": [
       "step           0\n",
       "customer       0\n",
       "age            0\n",
       "gender         0\n",
       "zipcodeOri     0\n",
       "merchant       0\n",
       "zipMerchant    0\n",
       "category       0\n",
       "amount         0\n",
       "fraud          0\n",
       "dtype: int64"
      ]
     },
     "execution_count": 51,
     "metadata": {},
     "output_type": "execute_result"
    }
   ],
   "source": [
    "bankdata_df.isna().sum()"
   ]
  },
  {
   "cell_type": "markdown",
   "metadata": {},
   "source": [
    "The dataset does not have any null or any NA values, so no replacement or removal is necessary."
   ]
  },
  {
   "cell_type": "code",
   "execution_count": 158,
   "metadata": {
    "scrolled": true
   },
   "outputs": [
    {
     "data": {
      "image/png": "[encoded data removed]",
      "text/plain": [
       "<Figure size 1152x864 with 1 Axes>"
      ]
     },
     "metadata": {},
     "output_type": "display_data"
    }
   ],
   "source": [
    "plt.figure(figsize=(16,12))\n",
    "ax = sns.barplot(y='Fraudulent (sum)' , x='Category', data=graph_df.sort_values('Fraudulent (sum)',ascending=False).head(5))\n",
    "plt.title(\"Graph of Total Fraudulent Payments by Category - Top 5\")\n",
    "sns.set(font_scale=2)\n",
    "ax.set_xticklabels(['Travel','Health','Sports and Toys','Hotel Services','Home'])\n",
    "plt.savefig('./graphs/Total_fraud_category.png')\n",
    "\n",
    "plt.show()"
   ]
  },
  {
   "cell_type": "code",
   "execution_count": null,
   "metadata": {},
   "outputs": [],
   "source": []
  },
  {
   "cell_type": "code",
   "execution_count": null,
   "metadata": {},
   "outputs": [],
   "source": []
  },
  {
   "cell_type": "code",
   "execution_count": null,
   "metadata": {},
   "outputs": [],
   "source": []
  },
  {
   "cell_type": "code",
   "execution_count": null,
   "metadata": {},
   "outputs": [],
   "source": []
  },
  {
   "cell_type": "code",
   "execution_count": 157,
   "metadata": {},
   "outputs": [
    {
     "data": {
      "image/png": "[encoded data removed]",
      "text/plain": [
       "<Figure size 1152x864 with 1 Axes>"
      ]
     },
     "metadata": {},
     "output_type": "display_data"
    }
   ],
   "source": [
    "plt.figure(figsize=(16,12))\n",
    "ax = sns.barplot(y='Fraudulent (avg)' , x='Category', data=graph_df.sort_values('Fraudulent (avg)',ascending=False).head(5))\n",
    "plt.title(\"Graph of Avg Fraudulent Payments by Category - Top 5\")\n",
    "ax.set_xticklabels(['Travel','Home','Tech','Hotel Services','Health'])\n",
    "plt.savefig('./graphs/Avg_fraud_category.png')\n",
    "\n",
    "plt.show()"
   ]
  },
  {
   "cell_type": "code",
   "execution_count": 155,
   "metadata": {},
   "outputs": [
    {
     "data": {
      "image/png": "[encoded data removed]",
      "text/plain": [
       "<Figure size 1152x864 with 1 Axes>"
      ]
     },
     "metadata": {},
     "output_type": "display_data"
    }
   ],
   "source": [
    "plt.figure(figsize=(16,12))\n",
    "ax = sns.barplot(y='age', x='amount', color='blue',data=bankdata_df[bankdata_df['fraud']==1],ci=False, estimator=sum)\n",
    "plt.title(\"Total Fraudulent Payments by Age\")\n",
    "ax.set_yticklabels(['36-45','19-25','26-35','56-65','46-55','> 65 ','<= 18','Unknown'])\n",
    "plt.savefig('./graphs/Total_Fraud_ByAge.png')\n",
    "\n",
    "\n",
    "plt.show()\n",
    "\n",
    "#0: <= 18, 1: 19-25, 2: 26-35, 3: 36-45, 4: 46:55, 5: 56:65, 6: > 65 U: Unknown"
   ]
  },
  {
   "cell_type": "code",
   "execution_count": 154,
   "metadata": {},
   "outputs": [
    {
     "data": {
      "image/png": "[encoded data removed]",
      "text/plain": [
       "<Figure size 1152x864 with 1 Axes>"
      ]
     },
     "metadata": {},
     "output_type": "display_data"
    }
   ],
   "source": [
    "plt.figure(figsize=(16,12))\n",
    "ax = sns.barplot(y='gender', x='amount', color='green',data=bankdata_df[bankdata_df['fraud']==1],ci=False, estimator=sum)\n",
    "plt.title(\"Total Fraudulent Payments by Gender\")\n",
    "ax.set_yticklabels(['Female','Male','Enterprise'])\n",
    "plt.savefig('./graphs/Total_Fraud_ByGender.png')\n",
    "\n",
    "\n",
    "plt.show()\n",
    "\n"
   ]
  },
  {
   "cell_type": "code",
   "execution_count": 147,
   "metadata": {},
   "outputs": [
    {
     "data": {
      "image/png": "[encoded data removed]",
      "text/plain": [
       "<Figure size 1152x864 with 1 Axes>"
      ]
     },
     "metadata": {},
     "output_type": "display_data"
    }
   ],
   "source": [
    "plt.figure(figsize=(16,12))\n",
    "ax = sns.scatterplot(x=bankdata_df.step,y=bankdata_df.amount,hue=bankdata_df.fraud)\n",
    "plt.title(\"Scatter Plot of Payment Type by Day\")\n",
    "\n",
    "\n",
    "ax.set_xlabel('Day #')\n",
    "\n",
    "plt.legend()\n",
    "\n",
    "plt.savefig('./graphs/Total_FraudbyDay.png')\n",
    "\n",
    "plt.show()"
   ]
  },
  {
   "cell_type": "code",
   "execution_count": null,
   "metadata": {},
   "outputs": [],
   "source": [
    "bankdata_df.describe()"
   ]
  },
  {
   "cell_type": "code",
   "execution_count": null,
   "metadata": {},
   "outputs": [],
   "source": [
    "bankdata_df['zipcodeOri'].value_counts()"
   ]
  },
  {
   "cell_type": "code",
   "execution_count": null,
   "metadata": {},
   "outputs": [],
   "source": [
    "bankdata_df['zipMerchant'].value_counts()"
   ]
  },
  {
   "cell_type": "markdown",
   "metadata": {},
   "source": [
    "Since there is only one zipcode and 1 merchant zipcode, I will remove these from the dataframe."
   ]
  },
  {
   "cell_type": "code",
   "execution_count": 6,
   "metadata": {},
   "outputs": [],
   "source": [
    "bankdata_df = bankdata_df.drop(columns=['zipcodeOri','zipMerchant'])"
   ]
  },
  {
   "cell_type": "code",
   "execution_count": null,
   "metadata": {},
   "outputs": [],
   "source": [
    "bankdata_df"
   ]
  },
  {
   "cell_type": "code",
   "execution_count": null,
   "metadata": {},
   "outputs": [],
   "source": [
    "bankdata_df['customer'].value_counts()"
   ]
  },
  {
   "cell_type": "markdown",
   "metadata": {},
   "source": [
    "## 2. Preprocessing the Data"
   ]
  },
  {
   "cell_type": "markdown",
   "metadata": {},
   "source": [
    "Next, I must preprocess the data to get it ready for the various modeling algorithms applicable for this type of classification problem. Preprocessing steps include:\n",
    "   - Creating the train and test datasets\n",
    "   - Applying SMOTE_NC to help alleviate the target class imbalance. SMOTE_NC can specifically be used on datasets that contain both continuous and categorical variables.\n",
    "   - Creating a pipeline that will apply standard scaler to continuous variables and one hot encode categorical variables, and then use column transformer\n",
    "   "
   ]
  },
  {
   "cell_type": "code",
   "execution_count": null,
   "metadata": {},
   "outputs": [],
   "source": [
    "bankdata_df.info()"
   ]
  },
  {
   "cell_type": "code",
   "execution_count": 7,
   "metadata": {},
   "outputs": [],
   "source": [
    "subpipe_num = Pipeline(steps=[\n",
    "    ('ss', StandardScaler())\n",
    "])\n",
    "\n",
    "\n",
    "subpipe_cat = Pipeline(steps=[\n",
    "    ('ohe', OneHotEncoder(sparse=False, handle_unknown='ignore'))\n",
    "])\n",
    "\n",
    "CT = ColumnTransformer(transformers = [\n",
    "    ('subpipe_num', subpipe_num, selector(dtype_include = np.number)),\n",
    "    ('subpipe_cat', subpipe_cat, selector(dtype_include = object))\n",
    "], remainder = 'passthrough')"
   ]
  },
  {
   "cell_type": "code",
   "execution_count": 8,
   "metadata": {},
   "outputs": [],
   "source": [
    "X = bankdata_df.drop(['fraud'],axis=1)\n",
    "y = bankdata_df['fraud']"
   ]
  },
  {
   "cell_type": "code",
   "execution_count": 9,
   "metadata": {},
   "outputs": [],
   "source": [
    "X_train, X_test, y_train, y_test = train_test_split(X, y, random_state=42)"
   ]
  },
  {
   "cell_type": "code",
   "execution_count": 10,
   "metadata": {},
   "outputs": [
    {
     "data": {
      "text/plain": [
       "0    74126\n",
       "1      874\n",
       "Name: fraud, dtype: int64"
      ]
     },
     "execution_count": 10,
     "metadata": {},
     "output_type": "execute_result"
    }
   ],
   "source": [
    "y_train.value_counts()"
   ]
  },
  {
   "cell_type": "markdown",
   "metadata": {},
   "source": [
    "Due to there being so few examples of fraud in the dataset (only 1.2%), I have applied SMOTENC below to increase the minority class of the train dataset to be at least 25% of the train majority class (i.e. not fraud)."
   ]
  },
  {
   "cell_type": "code",
   "execution_count": 11,
   "metadata": {},
   "outputs": [],
   "source": [
    "smote_nc = SMOTENC(categorical_features=[1,2,3,4,5],sampling_strategy=.5,random_state=42)\n",
    "X_resampled, y_resampled = smote_nc.fit_resample(X_train, y_train)\n"
   ]
  },
  {
   "cell_type": "code",
   "execution_count": 12,
   "metadata": {},
   "outputs": [
    {
     "data": {
      "text/plain": [
       "0    74126\n",
       "1    37063\n",
       "Name: fraud, dtype: int64"
      ]
     },
     "execution_count": 12,
     "metadata": {},
     "output_type": "execute_result"
    }
   ],
   "source": [
    "y_resampled.value_counts()"
   ]
  },
  {
   "cell_type": "code",
   "execution_count": 13,
   "metadata": {},
   "outputs": [
    {
     "data": {
      "text/plain": [
       "0    0.666667\n",
       "1    0.333333\n",
       "Name: fraud, dtype: float64"
      ]
     },
     "execution_count": 13,
     "metadata": {},
     "output_type": "execute_result"
    }
   ],
   "source": [
    "y_resampled.value_counts(normalize = True)"
   ]
  },
  {
   "cell_type": "markdown",
   "metadata": {},
   "source": [
    "Now the class is slightly more balanced, with 37,063 examples of the \"fraud\" target (or 33% of the sampled population)."
   ]
  },
  {
   "cell_type": "markdown",
   "metadata": {},
   "source": [
    "## 3. Modeling, Cross Validation and GridSearching"
   ]
  },
  {
   "cell_type": "markdown",
   "metadata": {},
   "source": [
    "I use the cross validation class taken from FlatIron lecture 51, and then apply certain types of classification models including:\n",
    "   - Dummy classifier\n",
    "   - Logistic Regression\n",
    "   - KNN\n",
    "   - Random Forest\n",
    "   - GradientBoost Classifier"
   ]
  },
  {
   "cell_type": "code",
   "execution_count": 14,
   "metadata": {},
   "outputs": [],
   "source": [
    "class ModelWithCV():\n",
    "    '''Structure to save the model and more easily see its crossvalidation'''\n",
    "    def __init__(self, model, model_name, X, y, cv_now=True):\n",
    "        self.model = model\n",
    "        self.name = model_name\n",
    "        self.X = X\n",
    "        self.y = y\n",
    "        # For CV results\n",
    "        self.cv_results = None\n",
    "        self.cv_mean = None\n",
    "        self.cv_median = None\n",
    "        self.cv_std = None\n",
    "        #\n",
    "        if cv_now:\n",
    "            self.cross_validate()\n",
    "        \n",
    "    def cross_validate(self, X=None, y=None, kfolds=10):\n",
    "        '''\n",
    "        Perform cross-validation and return results.\n",
    "        \n",
    "        Args: \n",
    "          X:\n",
    "            Optional; Training data to perform CV on. Otherwise use X from object\n",
    "          y:\n",
    "            Optional; Training data to perform CV on. Otherwise use y from object\n",
    "          kfolds:\n",
    "            Optional; Number of folds for CV (default is 10)  \n",
    "        '''\n",
    "        \n",
    "        cv_X = X if X else self.X\n",
    "        cv_y = y if y else self.y\n",
    "\n",
    "        self.cv_results = cross_val_score(self.model, cv_X, cv_y, cv=kfolds)\n",
    "        self.cv_mean = np.mean(self.cv_results)\n",
    "        self.cv_median = np.median(self.cv_results)\n",
    "        self.cv_std = np.std(self.cv_results)\n",
    "\n",
    "        \n",
    "    def print_cv_summary(self):\n",
    "        cv_summary = (\n",
    "        f'''CV Results for `{self.name}` model:\n",
    "            {self.cv_mean:.5f} ± {self.cv_std:.5f} accuracy\n",
    "        ''')\n",
    "        print(cv_summary)\n",
    "    \n",
    "    def cvmean(self):\n",
    "        cvmean2 = round(self.cv_mean,3)\n",
    "        print(cvmean2)"
   ]
  },
  {
   "cell_type": "code",
   "execution_count": null,
   "metadata": {},
   "outputs": [],
   "source": [
    "dummy_model_pipe = Pipeline(steps= [\n",
    "    ('ct', CT),\n",
    "    ('dum', DummyClassifier(strategy = 'most_frequent'))\n",
    "])\n",
    "\n",
    "dummy_pipe = ModelWithCV(dummy_model_pipe, 'dummy model', X_resampled, y_resampled)\n",
    "dummy_pipe.print_cv_summary()"
   ]
  },
  {
   "cell_type": "code",
   "execution_count": 16,
   "metadata": {},
   "outputs": [
    {
     "name": "stdout",
     "output_type": "stream",
     "text": [
      "CV Results for `logreg_model` model:\n",
      "            0.99593 ± 0.00090 accuracy\n",
      "        \n"
     ]
    }
   ],
   "source": [
    "logreg_model_pipe = Pipeline([\n",
    "    ('ct', CT),\n",
    "    ('logreg', LogisticRegression(random_state=42, max_iter=5000))\n",
    "])\n",
    "\n",
    "#I set max_iter to 5,000, as i received errors when I left max_iter at the default value of 100.\n",
    "#5,000 seems to work well and provide a good average accuracy score.\n",
    "\n",
    "logreg_pipe = ModelWithCV(logreg_model_pipe,'logreg_model', X_resampled, y_resampled)\n",
    "logreg_pipe.print_cv_summary()"
   ]
  },
  {
   "cell_type": "code",
   "execution_count": null,
   "metadata": {},
   "outputs": [],
   "source": [
    "knn_model_pipe = Pipeline([\n",
    "    ('ct',CT),\n",
    "    ('knn',KNeighborsClassifier(leaf_size=10000,n_neighbors=500))\n",
    "])\n",
    "\n",
    "knn_pipe = ModelWithCV(knn_model_pipe,'knn_model', X_resampled, y_resampled)\n",
    "knn_pipe.print_cv_summary()"
   ]
  },
  {
   "cell_type": "code",
   "execution_count": null,
   "metadata": {},
   "outputs": [],
   "source": [
    "rfc_model_pipe = Pipeline([\n",
    "    ('ct',CT),\n",
    "    ('rfc',RandomForestClassifier(random_state = 42,max_depth=9))\n",
    "])\n",
    "\n",
    "rfc_pipe = ModelWithCV(rfc_model_pipe,'rfc_model', X_resampled, y_resampled)\n",
    "rfc_pipe.print_cv_summary()"
   ]
  },
  {
   "cell_type": "code",
   "execution_count": null,
   "metadata": {},
   "outputs": [],
   "source": [
    "gbc_model_pipe = Pipeline([\n",
    "    ('ct',CT),\n",
    "    ('gbc',GradientBoostingClassifier(random_state = 42))\n",
    "])\n",
    "\n",
    "gbc_pipe = ModelWithCV(gbc_model_pipe,'gbc_model', X_resampled, y_resampled)\n",
    "gbc_pipe.print_cv_summary()"
   ]
  },
  {
   "cell_type": "markdown",
   "metadata": {},
   "source": [
    "### Apply Gridsearch to RFC and KNN, which had very high accuracy scores"
   ]
  },
  {
   "cell_type": "markdown",
   "metadata": {},
   "source": [
    "I applied GridSearch to the logreg pipeline, as it had the highest average accuracy score when compared to the other classification models. Initially, I tried to gridsearch on all 4 'penalty' hyperparameter options, along with certain 'solver' hyperparameter options, but certain of these parameters cannot be used together and the GridSearch wouldfail. Therefore, I simply applied the 'l2' and 'none' hyperparameter options to identify the better model."
   ]
  },
  {
   "cell_type": "code",
   "execution_count": 18,
   "metadata": {},
   "outputs": [],
   "source": [
    "#Tuning and Cross Validating of RFC. Here we add in some of the important selection criteria for RFC.\n",
    "logreg_params = {}\n",
    "logreg_params['logreg__penalty']=['l2','none']\n",
    "#logreg_params['logreg__solver']= ['lbfgs', 'sag', 'saga']\n",
    "#'elasticnet', 'l1',\n",
    "\n",
    "gs_logreg = GridSearchCV(logreg_model_pipe, logreg_params, cv=5, verbose=1)\n",
    "gs_logreg.fit(X_resampled, y_resampled)\n",
    "gs_logreg.best_params_"
   ]
  },
  {
   "cell_type": "code",
   "execution_count": null,
   "metadata": {},
   "outputs": [],
   "source": [
    "gs_logreg.best_score_"
   ]
  },
  {
   "cell_type": "code",
   "execution_count": null,
   "metadata": {},
   "outputs": [],
   "source": [
    "Final_logreg_model_pipe = Pipeline([\n",
    "    ('ct', CT),\n",
    "    ('logreg', LogisticRegression(random_state=42, max_iter=5000, penalty='none'))\n",
    "])\n",
    "\n",
    "Final_logreg_model_pipe.fit(X_resampled, y_resampled)"
   ]
  },
  {
   "cell_type": "code",
   "execution_count": null,
   "metadata": {},
   "outputs": [],
   "source": [
    "pickle.dump(Final_logreg_model_pipe,open(\"final_logreg_fraud_model.sav\",'wb'))"
   ]
  },
  {
   "cell_type": "code",
   "execution_count": 38,
   "metadata": {},
   "outputs": [
    {
     "data": {
      "text/plain": [
       "0.994"
      ]
     },
     "execution_count": 38,
     "metadata": {},
     "output_type": "execute_result"
    }
   ],
   "source": [
    "Final_logreg_model_pipe.score(X_test, y_test)"
   ]
  },
  {
   "cell_type": "markdown",
   "metadata": {},
   "source": [
    "I also ran gridsearches on the RFC and KNN pipelines, but have inserted markdowns below as it would take a couple of hours to run each. Logistic Regression pipeline still resulted with the highest test score."
   ]
  },
  {
   "cell_type": "code",
   "execution_count": null,
   "metadata": {},
   "outputs": [],
   "source": [
    "# rfc_params = {}\n",
    "# rfc_params['rfc__criterion'] = ['gini','entropy']\n",
    "# rfc_params['rfc__min_samples_leaf'] = [5,10,15]\n",
    "# rfc_params['rfc__max_depth'] = [5,7,9]\n",
    "\n",
    "# gs_rfc = GridSearchCV(rfc_model_pipe, rfc_params, cv=5, verbose=1)\n",
    "# gs_rfc.fit(X_resampled, y_resampled)\n",
    "# gs_rfc.best_params_"
   ]
  },
  {
   "cell_type": "code",
   "execution_count": null,
   "metadata": {},
   "outputs": [],
   "source": [
    "# gs_rfc.best_score_"
   ]
  },
  {
   "cell_type": "code",
   "execution_count": null,
   "metadata": {},
   "outputs": [],
   "source": []
  },
  {
   "cell_type": "code",
   "execution_count": null,
   "metadata": {},
   "outputs": [],
   "source": []
  },
  {
   "cell_type": "code",
   "execution_count": null,
   "metadata": {},
   "outputs": [],
   "source": [
    "# knn_params = {}\n",
    "# knn_params['knn__n_neighbors']=[300,500,700]\n",
    "# knn_params['knn__weights']=['uniform','distance']\n",
    "# knn_params['knn__algorithm']='auto',\n",
    "# knn_params['knn__leaf_size']=[5000,10000]\n",
    "# knn_params['knn__p']=[1,2]\n",
    "\n",
    "# gs_knn = GridSearchCV(knn_model_pipe, knn_params, cv=5, verbose=1)\n",
    "# gs_knn.fit(X_resampled, y_resampled)\n",
    "# gs_knn.best_params_"
   ]
  },
  {
   "cell_type": "code",
   "execution_count": null,
   "metadata": {},
   "outputs": [],
   "source": [
    "# gs_knn.best_score_"
   ]
  },
  {
   "cell_type": "code",
   "execution_count": null,
   "metadata": {},
   "outputs": [],
   "source": []
  },
  {
   "cell_type": "markdown",
   "metadata": {},
   "source": [
    "## 4. Final Classification Model - Confusion Matrix"
   ]
  },
  {
   "cell_type": "code",
   "execution_count": 23,
   "metadata": {},
   "outputs": [],
   "source": [
    "y_hat = Final_logreg_model_pipe.predict(X_test)"
   ]
  },
  {
   "cell_type": "code",
   "execution_count": 25,
   "metadata": {},
   "outputs": [
    {
     "name": "stdout",
     "output_type": "stream",
     "text": [
      "              precision    recall  f1-score   support\n",
      "\n",
      "           0       1.00      1.00      1.00     24676\n",
      "           1       0.78      0.75      0.76       324\n",
      "\n",
      "    accuracy                           0.99     25000\n",
      "   macro avg       0.89      0.88      0.88     25000\n",
      "weighted avg       0.99      0.99      0.99     25000\n",
      "\n"
     ]
    }
   ],
   "source": [
    "print(classification_report(y_test,y_hat))"
   ]
  },
  {
   "cell_type": "code",
   "execution_count": 163,
   "metadata": {},
   "outputs": [
    {
     "data": {
      "image/png": "[encoded data removed]",
      "text/plain": [
       "<Figure size 432x288 with 2 Axes>"
      ]
     },
     "metadata": {},
     "output_type": "display_data"
    }
   ],
   "source": [
    "#Plot a confusion matric on actual and preditions of the test data.\n",
    "ax = plt.subplot()\n",
    "sns.set(font_scale=1) # Adjust to fit\n",
    "\n",
    "plot_confusion_matrix(Final_logreg_model_pipe, X_test, y_test, ax=ax,  cmap = plt.cm.Greys, display_labels=['Not Fraud','Fraud'])\n",
    "\n",
    "# Labels, title and ticks\n",
    "label_font = {'size':'16'}  # Adjust to fit\n",
    "ax.set_xlabel('Predicted labels', fontdict=label_font);\n",
    "ax.set_ylabel('Observed labels', fontdict=label_font);\n",
    "ax.grid(b=False);\n",
    "\n",
    "title_font = {'size':'16'}  # Adjust to fit\n",
    "ax.set_title('Confusion Matrix', fontdict=title_font);\n",
    "\n",
    "plt.savefig('./graphs/Confusion Matrix')\n",
    "\n",
    "plt.show()"
   ]
  },
  {
   "cell_type": "code",
   "execution_count": null,
   "metadata": {},
   "outputs": [],
   "source": []
  },
  {
   "cell_type": "code",
   "execution_count": null,
   "metadata": {},
   "outputs": [],
   "source": []
  },
  {
   "cell_type": "markdown",
   "metadata": {},
   "source": [
    "## 5. Applying Final Model to Additional Unseen and Untested Fraudulent Payment Data"
   ]
  },
  {
   "cell_type": "code",
   "execution_count": 27,
   "metadata": {},
   "outputs": [],
   "source": [
    "sample_df = pd.read_csv(\"./sample_transactions2.csv\")\n",
    "sample_df_2 = sample_df[['step','customer','age','gender','merchant','category','amount']]\n",
    "\n",
    "loaded_model = pickle.load(open(\"final_logreg_fraud_model.sav\", 'rb'))\n",
    "\n",
    "preds = loaded_model.predict(sample_df_2)\n",
    "preds_proba = loaded_model.predict_proba(sample_df_2)\n",
    "df_prediction = pd.DataFrame(zip(preds,preds_proba[:,1]*100),columns=['Fraud Prediction','Probability(%)'])\n",
    "df_prediction['Potentially Fraudulent?'] = np.where(df_prediction['Fraud Prediction'] == 1, 'Yes', 'No')\n",
    "df_combined = sample_df.join(df_prediction)\n"
   ]
  },
  {
   "cell_type": "code",
   "execution_count": 31,
   "metadata": {},
   "outputs": [
    {
     "data": {
      "text/html": [
       "<div>\n",
       "<style scoped>\n",
       "    .dataframe tbody tr th:only-of-type {\n",
       "        vertical-align: middle;\n",
       "    }\n",
       "\n",
       "    .dataframe tbody tr th {\n",
       "        vertical-align: top;\n",
       "    }\n",
       "\n",
       "    .dataframe thead th {\n",
       "        text-align: right;\n",
       "    }\n",
       "</style>\n",
       "<table border=\"1\" class=\"dataframe\">\n",
       "  <thead>\n",
       "    <tr style=\"text-align: right;\">\n",
       "      <th></th>\n",
       "      <th>Unnamed: 0</th>\n",
       "      <th>step</th>\n",
       "      <th>customer</th>\n",
       "      <th>age</th>\n",
       "      <th>gender</th>\n",
       "      <th>zipcodeOri</th>\n",
       "      <th>merchant</th>\n",
       "      <th>zipMerchant</th>\n",
       "      <th>category</th>\n",
       "      <th>amount</th>\n",
       "      <th>fraud</th>\n",
       "      <th>Fraud Prediction</th>\n",
       "      <th>Probability(%)</th>\n",
       "      <th>Potentially Fraudulent?</th>\n",
       "    </tr>\n",
       "  </thead>\n",
       "  <tbody>\n",
       "    <tr>\n",
       "      <th>49</th>\n",
       "      <td>401821</td>\n",
       "      <td>127</td>\n",
       "      <td>'C1005806982'</td>\n",
       "      <td>'4'</td>\n",
       "      <td>'M'</td>\n",
       "      <td>'28007'</td>\n",
       "      <td>'M151143676'</td>\n",
       "      <td>'28007'</td>\n",
       "      <td>'es_barsandrestaurants'</td>\n",
       "      <td>170.85</td>\n",
       "      <td>1</td>\n",
       "      <td>0</td>\n",
       "      <td>0.02</td>\n",
       "      <td>No</td>\n",
       "    </tr>\n",
       "    <tr>\n",
       "      <th>98</th>\n",
       "      <td>507885</td>\n",
       "      <td>156</td>\n",
       "      <td>'C1736605496'</td>\n",
       "      <td>'4'</td>\n",
       "      <td>'M'</td>\n",
       "      <td>'28007'</td>\n",
       "      <td>'M480139044'</td>\n",
       "      <td>'28007'</td>\n",
       "      <td>'es_health'</td>\n",
       "      <td>39.16</td>\n",
       "      <td>1</td>\n",
       "      <td>0</td>\n",
       "      <td>0.04</td>\n",
       "      <td>No</td>\n",
       "    </tr>\n",
       "    <tr>\n",
       "      <th>44</th>\n",
       "      <td>398061</td>\n",
       "      <td>126</td>\n",
       "      <td>'C1741037105'</td>\n",
       "      <td>'1'</td>\n",
       "      <td>'F'</td>\n",
       "      <td>'28007'</td>\n",
       "      <td>'M980657600'</td>\n",
       "      <td>'28007'</td>\n",
       "      <td>'es_sportsandtoys'</td>\n",
       "      <td>95.89</td>\n",
       "      <td>1</td>\n",
       "      <td>0</td>\n",
       "      <td>7.83</td>\n",
       "      <td>No</td>\n",
       "    </tr>\n",
       "    <tr>\n",
       "      <th>66</th>\n",
       "      <td>410225</td>\n",
       "      <td>129</td>\n",
       "      <td>'C2015444413'</td>\n",
       "      <td>'2'</td>\n",
       "      <td>'F'</td>\n",
       "      <td>'28007'</td>\n",
       "      <td>'M547558035'</td>\n",
       "      <td>'28007'</td>\n",
       "      <td>'es_fashion'</td>\n",
       "      <td>26.02</td>\n",
       "      <td>1</td>\n",
       "      <td>0</td>\n",
       "      <td>0.18</td>\n",
       "      <td>No</td>\n",
       "    </tr>\n",
       "    <tr>\n",
       "      <th>35</th>\n",
       "      <td>541658</td>\n",
       "      <td>165</td>\n",
       "      <td>'C194301248'</td>\n",
       "      <td>'2'</td>\n",
       "      <td>'M'</td>\n",
       "      <td>'28007'</td>\n",
       "      <td>'M1741626453'</td>\n",
       "      <td>'28007'</td>\n",
       "      <td>'es_sportsandtoys'</td>\n",
       "      <td>139.36</td>\n",
       "      <td>1</td>\n",
       "      <td>0</td>\n",
       "      <td>0.01</td>\n",
       "      <td>No</td>\n",
       "    </tr>\n",
       "    <tr>\n",
       "      <th>29</th>\n",
       "      <td>248822</td>\n",
       "      <td>83</td>\n",
       "      <td>'C1087227796'</td>\n",
       "      <td>'2'</td>\n",
       "      <td>'M'</td>\n",
       "      <td>'28007'</td>\n",
       "      <td>'M480139044'</td>\n",
       "      <td>'28007'</td>\n",
       "      <td>'es_health'</td>\n",
       "      <td>76.80</td>\n",
       "      <td>1</td>\n",
       "      <td>0</td>\n",
       "      <td>0.11</td>\n",
       "      <td>No</td>\n",
       "    </tr>\n",
       "    <tr>\n",
       "      <th>55</th>\n",
       "      <td>224404</td>\n",
       "      <td>76</td>\n",
       "      <td>'C1886871597'</td>\n",
       "      <td>'4'</td>\n",
       "      <td>'F'</td>\n",
       "      <td>'28007'</td>\n",
       "      <td>'M855959430'</td>\n",
       "      <td>'28007'</td>\n",
       "      <td>'es_hyper'</td>\n",
       "      <td>10.63</td>\n",
       "      <td>1</td>\n",
       "      <td>0</td>\n",
       "      <td>9.81</td>\n",
       "      <td>No</td>\n",
       "    </tr>\n",
       "    <tr>\n",
       "      <th>80</th>\n",
       "      <td>483214</td>\n",
       "      <td>149</td>\n",
       "      <td>'C987620594'</td>\n",
       "      <td>'5'</td>\n",
       "      <td>'F'</td>\n",
       "      <td>'28007'</td>\n",
       "      <td>'M1888755466'</td>\n",
       "      <td>'28007'</td>\n",
       "      <td>'es_otherservices'</td>\n",
       "      <td>120.19</td>\n",
       "      <td>1</td>\n",
       "      <td>0</td>\n",
       "      <td>0.02</td>\n",
       "      <td>No</td>\n",
       "    </tr>\n",
       "    <tr>\n",
       "      <th>81</th>\n",
       "      <td>136545</td>\n",
       "      <td>48</td>\n",
       "      <td>'C339075311'</td>\n",
       "      <td>'3'</td>\n",
       "      <td>'F'</td>\n",
       "      <td>'28007'</td>\n",
       "      <td>'M1741626453'</td>\n",
       "      <td>'28007'</td>\n",
       "      <td>'es_sportsandtoys'</td>\n",
       "      <td>54.57</td>\n",
       "      <td>1</td>\n",
       "      <td>0</td>\n",
       "      <td>0.00</td>\n",
       "      <td>No</td>\n",
       "    </tr>\n",
       "    <tr>\n",
       "      <th>82</th>\n",
       "      <td>168498</td>\n",
       "      <td>58</td>\n",
       "      <td>'C1541237057'</td>\n",
       "      <td>'2'</td>\n",
       "      <td>'F'</td>\n",
       "      <td>'28007'</td>\n",
       "      <td>'M855959430'</td>\n",
       "      <td>'28007'</td>\n",
       "      <td>'es_hyper'</td>\n",
       "      <td>3.92</td>\n",
       "      <td>1</td>\n",
       "      <td>0</td>\n",
       "      <td>0.00</td>\n",
       "      <td>No</td>\n",
       "    </tr>\n",
       "    <tr>\n",
       "      <th>20</th>\n",
       "      <td>184806</td>\n",
       "      <td>64</td>\n",
       "      <td>'C608547225'</td>\n",
       "      <td>'2'</td>\n",
       "      <td>'F'</td>\n",
       "      <td>'28007'</td>\n",
       "      <td>'M17379832'</td>\n",
       "      <td>'28007'</td>\n",
       "      <td>'es_sportsandtoys'</td>\n",
       "      <td>8.98</td>\n",
       "      <td>1</td>\n",
       "      <td>0</td>\n",
       "      <td>0.00</td>\n",
       "      <td>No</td>\n",
       "    </tr>\n",
       "    <tr>\n",
       "      <th>18</th>\n",
       "      <td>183353</td>\n",
       "      <td>63</td>\n",
       "      <td>'C1744280753'</td>\n",
       "      <td>'2'</td>\n",
       "      <td>'M'</td>\n",
       "      <td>'28007'</td>\n",
       "      <td>'M151143676'</td>\n",
       "      <td>'28007'</td>\n",
       "      <td>'es_barsandrestaurants'</td>\n",
       "      <td>320.27</td>\n",
       "      <td>1</td>\n",
       "      <td>0</td>\n",
       "      <td>1.29</td>\n",
       "      <td>No</td>\n",
       "    </tr>\n",
       "    <tr>\n",
       "      <th>53</th>\n",
       "      <td>430449</td>\n",
       "      <td>135</td>\n",
       "      <td>'C34111179'</td>\n",
       "      <td>'4'</td>\n",
       "      <td>'F'</td>\n",
       "      <td>'28007'</td>\n",
       "      <td>'M1198415165'</td>\n",
       "      <td>'28007'</td>\n",
       "      <td>'es_wellnessandbeauty'</td>\n",
       "      <td>13.96</td>\n",
       "      <td>1</td>\n",
       "      <td>0</td>\n",
       "      <td>44.06</td>\n",
       "      <td>No</td>\n",
       "    </tr>\n",
       "    <tr>\n",
       "      <th>3</th>\n",
       "      <td>471117</td>\n",
       "      <td>146</td>\n",
       "      <td>'C115603187'</td>\n",
       "      <td>'4'</td>\n",
       "      <td>'M'</td>\n",
       "      <td>'28007'</td>\n",
       "      <td>'M209847108'</td>\n",
       "      <td>'28007'</td>\n",
       "      <td>'es_wellnessandbeauty'</td>\n",
       "      <td>8.70</td>\n",
       "      <td>1</td>\n",
       "      <td>0</td>\n",
       "      <td>0.00</td>\n",
       "      <td>No</td>\n",
       "    </tr>\n",
       "    <tr>\n",
       "      <th>94</th>\n",
       "      <td>164466</td>\n",
       "      <td>57</td>\n",
       "      <td>'C1355090926'</td>\n",
       "      <td>'3'</td>\n",
       "      <td>'F'</td>\n",
       "      <td>'28007'</td>\n",
       "      <td>'M855959430'</td>\n",
       "      <td>'28007'</td>\n",
       "      <td>'es_hyper'</td>\n",
       "      <td>339.69</td>\n",
       "      <td>1</td>\n",
       "      <td>0</td>\n",
       "      <td>16.00</td>\n",
       "      <td>No</td>\n",
       "    </tr>\n",
       "    <tr>\n",
       "      <th>6</th>\n",
       "      <td>28156</td>\n",
       "      <td>11</td>\n",
       "      <td>'C1947369699'</td>\n",
       "      <td>'5'</td>\n",
       "      <td>'F'</td>\n",
       "      <td>'28007'</td>\n",
       "      <td>'M151143676'</td>\n",
       "      <td>'28007'</td>\n",
       "      <td>'es_barsandrestaurants'</td>\n",
       "      <td>44.15</td>\n",
       "      <td>1</td>\n",
       "      <td>0</td>\n",
       "      <td>0.00</td>\n",
       "      <td>No</td>\n",
       "    </tr>\n",
       "    <tr>\n",
       "      <th>9</th>\n",
       "      <td>213759</td>\n",
       "      <td>73</td>\n",
       "      <td>'C1420354861'</td>\n",
       "      <td>'2'</td>\n",
       "      <td>'F'</td>\n",
       "      <td>'28007'</td>\n",
       "      <td>'M980657600'</td>\n",
       "      <td>'28007'</td>\n",
       "      <td>'es_sportsandtoys'</td>\n",
       "      <td>93.90</td>\n",
       "      <td>1</td>\n",
       "      <td>0</td>\n",
       "      <td>0.00</td>\n",
       "      <td>No</td>\n",
       "    </tr>\n",
       "    <tr>\n",
       "      <th>92</th>\n",
       "      <td>177095</td>\n",
       "      <td>61</td>\n",
       "      <td>'C1245363669'</td>\n",
       "      <td>'5'</td>\n",
       "      <td>'F'</td>\n",
       "      <td>'28007'</td>\n",
       "      <td>'M50039827'</td>\n",
       "      <td>'28007'</td>\n",
       "      <td>'es_health'</td>\n",
       "      <td>809.22</td>\n",
       "      <td>1</td>\n",
       "      <td>0</td>\n",
       "      <td>27.99</td>\n",
       "      <td>No</td>\n",
       "    </tr>\n",
       "    <tr>\n",
       "      <th>88</th>\n",
       "      <td>78725</td>\n",
       "      <td>29</td>\n",
       "      <td>'C195373250'</td>\n",
       "      <td>'3'</td>\n",
       "      <td>'M'</td>\n",
       "      <td>'28007'</td>\n",
       "      <td>'M480139044'</td>\n",
       "      <td>'28007'</td>\n",
       "      <td>'es_health'</td>\n",
       "      <td>284.53</td>\n",
       "      <td>1</td>\n",
       "      <td>1</td>\n",
       "      <td>100.00</td>\n",
       "      <td>Yes</td>\n",
       "    </tr>\n",
       "    <tr>\n",
       "      <th>68</th>\n",
       "      <td>432524</td>\n",
       "      <td>136</td>\n",
       "      <td>'C1350963410'</td>\n",
       "      <td>'5'</td>\n",
       "      <td>'F'</td>\n",
       "      <td>'28007'</td>\n",
       "      <td>'M980657600'</td>\n",
       "      <td>'28007'</td>\n",
       "      <td>'es_sportsandtoys'</td>\n",
       "      <td>364.84</td>\n",
       "      <td>1</td>\n",
       "      <td>1</td>\n",
       "      <td>100.00</td>\n",
       "      <td>Yes</td>\n",
       "    </tr>\n",
       "    <tr>\n",
       "      <th>67</th>\n",
       "      <td>73566</td>\n",
       "      <td>27</td>\n",
       "      <td>'C430579454'</td>\n",
       "      <td>'4'</td>\n",
       "      <td>'F'</td>\n",
       "      <td>'28007'</td>\n",
       "      <td>'M480139044'</td>\n",
       "      <td>'28007'</td>\n",
       "      <td>'es_health'</td>\n",
       "      <td>895.47</td>\n",
       "      <td>1</td>\n",
       "      <td>1</td>\n",
       "      <td>100.00</td>\n",
       "      <td>Yes</td>\n",
       "    </tr>\n",
       "    <tr>\n",
       "      <th>65</th>\n",
       "      <td>365376</td>\n",
       "      <td>117</td>\n",
       "      <td>'C218446443'</td>\n",
       "      <td>'2'</td>\n",
       "      <td>'M'</td>\n",
       "      <td>'28007'</td>\n",
       "      <td>'M1888755466'</td>\n",
       "      <td>'28007'</td>\n",
       "      <td>'es_otherservices'</td>\n",
       "      <td>7.66</td>\n",
       "      <td>1</td>\n",
       "      <td>1</td>\n",
       "      <td>85.95</td>\n",
       "      <td>Yes</td>\n",
       "    </tr>\n",
       "    <tr>\n",
       "      <th>64</th>\n",
       "      <td>399136</td>\n",
       "      <td>126</td>\n",
       "      <td>'C528277773'</td>\n",
       "      <td>'0'</td>\n",
       "      <td>'F'</td>\n",
       "      <td>'28007'</td>\n",
       "      <td>'M480139044'</td>\n",
       "      <td>'28007'</td>\n",
       "      <td>'es_health'</td>\n",
       "      <td>490.50</td>\n",
       "      <td>1</td>\n",
       "      <td>1</td>\n",
       "      <td>97.42</td>\n",
       "      <td>Yes</td>\n",
       "    </tr>\n",
       "    <tr>\n",
       "      <th>63</th>\n",
       "      <td>115671</td>\n",
       "      <td>41</td>\n",
       "      <td>'C515668508'</td>\n",
       "      <td>'3'</td>\n",
       "      <td>'F'</td>\n",
       "      <td>'28007'</td>\n",
       "      <td>'M732195782'</td>\n",
       "      <td>'28007'</td>\n",
       "      <td>'es_travel'</td>\n",
       "      <td>2450.37</td>\n",
       "      <td>1</td>\n",
       "      <td>1</td>\n",
       "      <td>100.00</td>\n",
       "      <td>Yes</td>\n",
       "    </tr>\n",
       "    <tr>\n",
       "      <th>96</th>\n",
       "      <td>65510</td>\n",
       "      <td>24</td>\n",
       "      <td>'C587299231'</td>\n",
       "      <td>'2'</td>\n",
       "      <td>'F'</td>\n",
       "      <td>'28007'</td>\n",
       "      <td>'M480139044'</td>\n",
       "      <td>'28007'</td>\n",
       "      <td>'es_health'</td>\n",
       "      <td>842.95</td>\n",
       "      <td>1</td>\n",
       "      <td>1</td>\n",
       "      <td>100.00</td>\n",
       "      <td>Yes</td>\n",
       "    </tr>\n",
       "    <tr>\n",
       "      <th>69</th>\n",
       "      <td>74827</td>\n",
       "      <td>28</td>\n",
       "      <td>'C1175850429'</td>\n",
       "      <td>'4'</td>\n",
       "      <td>'M'</td>\n",
       "      <td>'28007'</td>\n",
       "      <td>'M732195782'</td>\n",
       "      <td>'28007'</td>\n",
       "      <td>'es_travel'</td>\n",
       "      <td>1777.02</td>\n",
       "      <td>1</td>\n",
       "      <td>1</td>\n",
       "      <td>100.00</td>\n",
       "      <td>Yes</td>\n",
       "    </tr>\n",
       "    <tr>\n",
       "      <th>61</th>\n",
       "      <td>185348</td>\n",
       "      <td>64</td>\n",
       "      <td>'C483912131'</td>\n",
       "      <td>'2'</td>\n",
       "      <td>'F'</td>\n",
       "      <td>'28007'</td>\n",
       "      <td>'M1888755466'</td>\n",
       "      <td>'28007'</td>\n",
       "      <td>'es_otherservices'</td>\n",
       "      <td>347.38</td>\n",
       "      <td>1</td>\n",
       "      <td>1</td>\n",
       "      <td>100.00</td>\n",
       "      <td>Yes</td>\n",
       "    </tr>\n",
       "    <tr>\n",
       "      <th>60</th>\n",
       "      <td>427815</td>\n",
       "      <td>134</td>\n",
       "      <td>'C301422123'</td>\n",
       "      <td>'3'</td>\n",
       "      <td>'M'</td>\n",
       "      <td>'28007'</td>\n",
       "      <td>'M1198415165'</td>\n",
       "      <td>'28007'</td>\n",
       "      <td>'es_wellnessandbeauty'</td>\n",
       "      <td>338.54</td>\n",
       "      <td>1</td>\n",
       "      <td>1</td>\n",
       "      <td>57.90</td>\n",
       "      <td>Yes</td>\n",
       "    </tr>\n",
       "    <tr>\n",
       "      <th>59</th>\n",
       "      <td>372703</td>\n",
       "      <td>119</td>\n",
       "      <td>'C1338932459'</td>\n",
       "      <td>'2'</td>\n",
       "      <td>'M'</td>\n",
       "      <td>'28007'</td>\n",
       "      <td>'M980657600'</td>\n",
       "      <td>'28007'</td>\n",
       "      <td>'es_sportsandtoys'</td>\n",
       "      <td>344.02</td>\n",
       "      <td>1</td>\n",
       "      <td>1</td>\n",
       "      <td>99.87</td>\n",
       "      <td>Yes</td>\n",
       "    </tr>\n",
       "    <tr>\n",
       "      <th>58</th>\n",
       "      <td>577326</td>\n",
       "      <td>175</td>\n",
       "      <td>'C1450140987'</td>\n",
       "      <td>'4'</td>\n",
       "      <td>'F'</td>\n",
       "      <td>'28007'</td>\n",
       "      <td>'M1748431652'</td>\n",
       "      <td>'28007'</td>\n",
       "      <td>'es_wellnessandbeauty'</td>\n",
       "      <td>420.77</td>\n",
       "      <td>1</td>\n",
       "      <td>1</td>\n",
       "      <td>100.00</td>\n",
       "      <td>Yes</td>\n",
       "    </tr>\n",
       "    <tr>\n",
       "      <th>97</th>\n",
       "      <td>214210</td>\n",
       "      <td>73</td>\n",
       "      <td>'C2004941826'</td>\n",
       "      <td>'2'</td>\n",
       "      <td>'F'</td>\n",
       "      <td>'28007'</td>\n",
       "      <td>'M480139044'</td>\n",
       "      <td>'28007'</td>\n",
       "      <td>'es_health'</td>\n",
       "      <td>234.70</td>\n",
       "      <td>1</td>\n",
       "      <td>1</td>\n",
       "      <td>100.00</td>\n",
       "      <td>Yes</td>\n",
       "    </tr>\n",
       "    <tr>\n",
       "      <th>57</th>\n",
       "      <td>510200</td>\n",
       "      <td>157</td>\n",
       "      <td>'C1849046345'</td>\n",
       "      <td>'4'</td>\n",
       "      <td>'F'</td>\n",
       "      <td>'28007'</td>\n",
       "      <td>'M980657600'</td>\n",
       "      <td>'28007'</td>\n",
       "      <td>'es_sportsandtoys'</td>\n",
       "      <td>59.57</td>\n",
       "      <td>1</td>\n",
       "      <td>1</td>\n",
       "      <td>100.00</td>\n",
       "      <td>Yes</td>\n",
       "    </tr>\n",
       "    <tr>\n",
       "      <th>56</th>\n",
       "      <td>118868</td>\n",
       "      <td>42</td>\n",
       "      <td>'C1080032135'</td>\n",
       "      <td>'6'</td>\n",
       "      <td>'F'</td>\n",
       "      <td>'28007'</td>\n",
       "      <td>'M1888755466'</td>\n",
       "      <td>'28007'</td>\n",
       "      <td>'es_otherservices'</td>\n",
       "      <td>64.66</td>\n",
       "      <td>1</td>\n",
       "      <td>1</td>\n",
       "      <td>94.49</td>\n",
       "      <td>Yes</td>\n",
       "    </tr>\n",
       "    <tr>\n",
       "      <th>62</th>\n",
       "      <td>528205</td>\n",
       "      <td>162</td>\n",
       "      <td>'C1817318774'</td>\n",
       "      <td>'2'</td>\n",
       "      <td>'F'</td>\n",
       "      <td>'28007'</td>\n",
       "      <td>'M980657600'</td>\n",
       "      <td>'28007'</td>\n",
       "      <td>'es_sportsandtoys'</td>\n",
       "      <td>337.46</td>\n",
       "      <td>1</td>\n",
       "      <td>1</td>\n",
       "      <td>100.00</td>\n",
       "      <td>Yes</td>\n",
       "    </tr>\n",
       "    <tr>\n",
       "      <th>95</th>\n",
       "      <td>402506</td>\n",
       "      <td>127</td>\n",
       "      <td>'C1685492470'</td>\n",
       "      <td>'2'</td>\n",
       "      <td>'F'</td>\n",
       "      <td>'28007'</td>\n",
       "      <td>'M480139044'</td>\n",
       "      <td>'28007'</td>\n",
       "      <td>'es_health'</td>\n",
       "      <td>115.72</td>\n",
       "      <td>1</td>\n",
       "      <td>1</td>\n",
       "      <td>100.00</td>\n",
       "      <td>Yes</td>\n",
       "    </tr>\n",
       "    <tr>\n",
       "      <th>71</th>\n",
       "      <td>392918</td>\n",
       "      <td>125</td>\n",
       "      <td>'C1971736578'</td>\n",
       "      <td>'5'</td>\n",
       "      <td>'F'</td>\n",
       "      <td>'28007'</td>\n",
       "      <td>'M1649169323'</td>\n",
       "      <td>'28007'</td>\n",
       "      <td>'es_sportsandtoys'</td>\n",
       "      <td>528.38</td>\n",
       "      <td>1</td>\n",
       "      <td>1</td>\n",
       "      <td>100.00</td>\n",
       "      <td>Yes</td>\n",
       "    </tr>\n",
       "    <tr>\n",
       "      <th>89</th>\n",
       "      <td>405767</td>\n",
       "      <td>128</td>\n",
       "      <td>'C1982656265'</td>\n",
       "      <td>'3'</td>\n",
       "      <td>'M'</td>\n",
       "      <td>'28007'</td>\n",
       "      <td>'M1294758098'</td>\n",
       "      <td>'28007'</td>\n",
       "      <td>'es_leisure'</td>\n",
       "      <td>377.47</td>\n",
       "      <td>1</td>\n",
       "      <td>1</td>\n",
       "      <td>100.00</td>\n",
       "      <td>Yes</td>\n",
       "    </tr>\n",
       "    <tr>\n",
       "      <th>87</th>\n",
       "      <td>5664</td>\n",
       "      <td>2</td>\n",
       "      <td>'C525850964'</td>\n",
       "      <td>'2'</td>\n",
       "      <td>'F'</td>\n",
       "      <td>'28007'</td>\n",
       "      <td>'M923029380'</td>\n",
       "      <td>'28007'</td>\n",
       "      <td>'es_home'</td>\n",
       "      <td>503.68</td>\n",
       "      <td>1</td>\n",
       "      <td>1</td>\n",
       "      <td>100.00</td>\n",
       "      <td>Yes</td>\n",
       "    </tr>\n",
       "    <tr>\n",
       "      <th>86</th>\n",
       "      <td>484269</td>\n",
       "      <td>150</td>\n",
       "      <td>'C404075543'</td>\n",
       "      <td>'4'</td>\n",
       "      <td>'M'</td>\n",
       "      <td>'28007'</td>\n",
       "      <td>'M480139044'</td>\n",
       "      <td>'28007'</td>\n",
       "      <td>'es_health'</td>\n",
       "      <td>501.51</td>\n",
       "      <td>1</td>\n",
       "      <td>1</td>\n",
       "      <td>93.63</td>\n",
       "      <td>Yes</td>\n",
       "    </tr>\n",
       "    <tr>\n",
       "      <th>85</th>\n",
       "      <td>68076</td>\n",
       "      <td>25</td>\n",
       "      <td>'C1651395634'</td>\n",
       "      <td>'5'</td>\n",
       "      <td>'M'</td>\n",
       "      <td>'28007'</td>\n",
       "      <td>'M2011752106'</td>\n",
       "      <td>'28007'</td>\n",
       "      <td>'es_hotelservices'</td>\n",
       "      <td>629.12</td>\n",
       "      <td>1</td>\n",
       "      <td>1</td>\n",
       "      <td>100.00</td>\n",
       "      <td>Yes</td>\n",
       "    </tr>\n",
       "  </tbody>\n",
       "</table>\n",
       "</div>"
      ],
      "text/plain": [
       "    Unnamed: 0  step       customer  age gender zipcodeOri       merchant  \\\n",
       "49      401821   127  'C1005806982'  '4'    'M'    '28007'   'M151143676'   \n",
       "98      507885   156  'C1736605496'  '4'    'M'    '28007'   'M480139044'   \n",
       "44      398061   126  'C1741037105'  '1'    'F'    '28007'   'M980657600'   \n",
       "66      410225   129  'C2015444413'  '2'    'F'    '28007'   'M547558035'   \n",
       "35      541658   165   'C194301248'  '2'    'M'    '28007'  'M1741626453'   \n",
       "29      248822    83  'C1087227796'  '2'    'M'    '28007'   'M480139044'   \n",
       "55      224404    76  'C1886871597'  '4'    'F'    '28007'   'M855959430'   \n",
       "80      483214   149   'C987620594'  '5'    'F'    '28007'  'M1888755466'   \n",
       "81      136545    48   'C339075311'  '3'    'F'    '28007'  'M1741626453'   \n",
       "82      168498    58  'C1541237057'  '2'    'F'    '28007'   'M855959430'   \n",
       "20      184806    64   'C608547225'  '2'    'F'    '28007'    'M17379832'   \n",
       "18      183353    63  'C1744280753'  '2'    'M'    '28007'   'M151143676'   \n",
       "53      430449   135    'C34111179'  '4'    'F'    '28007'  'M1198415165'   \n",
       "3       471117   146   'C115603187'  '4'    'M'    '28007'   'M209847108'   \n",
       "94      164466    57  'C1355090926'  '3'    'F'    '28007'   'M855959430'   \n",
       "6        28156    11  'C1947369699'  '5'    'F'    '28007'   'M151143676'   \n",
       "9       213759    73  'C1420354861'  '2'    'F'    '28007'   'M980657600'   \n",
       "92      177095    61  'C1245363669'  '5'    'F'    '28007'    'M50039827'   \n",
       "88       78725    29   'C195373250'  '3'    'M'    '28007'   'M480139044'   \n",
       "68      432524   136  'C1350963410'  '5'    'F'    '28007'   'M980657600'   \n",
       "67       73566    27   'C430579454'  '4'    'F'    '28007'   'M480139044'   \n",
       "65      365376   117   'C218446443'  '2'    'M'    '28007'  'M1888755466'   \n",
       "64      399136   126   'C528277773'  '0'    'F'    '28007'   'M480139044'   \n",
       "63      115671    41   'C515668508'  '3'    'F'    '28007'   'M732195782'   \n",
       "96       65510    24   'C587299231'  '2'    'F'    '28007'   'M480139044'   \n",
       "69       74827    28  'C1175850429'  '4'    'M'    '28007'   'M732195782'   \n",
       "61      185348    64   'C483912131'  '2'    'F'    '28007'  'M1888755466'   \n",
       "60      427815   134   'C301422123'  '3'    'M'    '28007'  'M1198415165'   \n",
       "59      372703   119  'C1338932459'  '2'    'M'    '28007'   'M980657600'   \n",
       "58      577326   175  'C1450140987'  '4'    'F'    '28007'  'M1748431652'   \n",
       "97      214210    73  'C2004941826'  '2'    'F'    '28007'   'M480139044'   \n",
       "57      510200   157  'C1849046345'  '4'    'F'    '28007'   'M980657600'   \n",
       "56      118868    42  'C1080032135'  '6'    'F'    '28007'  'M1888755466'   \n",
       "62      528205   162  'C1817318774'  '2'    'F'    '28007'   'M980657600'   \n",
       "95      402506   127  'C1685492470'  '2'    'F'    '28007'   'M480139044'   \n",
       "71      392918   125  'C1971736578'  '5'    'F'    '28007'  'M1649169323'   \n",
       "89      405767   128  'C1982656265'  '3'    'M'    '28007'  'M1294758098'   \n",
       "87        5664     2   'C525850964'  '2'    'F'    '28007'   'M923029380'   \n",
       "86      484269   150   'C404075543'  '4'    'M'    '28007'   'M480139044'   \n",
       "85       68076    25  'C1651395634'  '5'    'M'    '28007'  'M2011752106'   \n",
       "\n",
       "   zipMerchant                 category  amount  fraud  Fraud Prediction  \\\n",
       "49     '28007'  'es_barsandrestaurants'  170.85      1                 0   \n",
       "98     '28007'              'es_health'   39.16      1                 0   \n",
       "44     '28007'       'es_sportsandtoys'   95.89      1                 0   \n",
       "66     '28007'             'es_fashion'   26.02      1                 0   \n",
       "35     '28007'       'es_sportsandtoys'  139.36      1                 0   \n",
       "29     '28007'              'es_health'   76.80      1                 0   \n",
       "55     '28007'               'es_hyper'   10.63      1                 0   \n",
       "80     '28007'       'es_otherservices'  120.19      1                 0   \n",
       "81     '28007'       'es_sportsandtoys'   54.57      1                 0   \n",
       "82     '28007'               'es_hyper'    3.92      1                 0   \n",
       "20     '28007'       'es_sportsandtoys'    8.98      1                 0   \n",
       "18     '28007'  'es_barsandrestaurants'  320.27      1                 0   \n",
       "53     '28007'   'es_wellnessandbeauty'   13.96      1                 0   \n",
       "3      '28007'   'es_wellnessandbeauty'    8.70      1                 0   \n",
       "94     '28007'               'es_hyper'  339.69      1                 0   \n",
       "6      '28007'  'es_barsandrestaurants'   44.15      1                 0   \n",
       "9      '28007'       'es_sportsandtoys'   93.90      1                 0   \n",
       "92     '28007'              'es_health'  809.22      1                 0   \n",
       "88     '28007'              'es_health'  284.53      1                 1   \n",
       "68     '28007'       'es_sportsandtoys'  364.84      1                 1   \n",
       "67     '28007'              'es_health'  895.47      1                 1   \n",
       "65     '28007'       'es_otherservices'    7.66      1                 1   \n",
       "64     '28007'              'es_health'  490.50      1                 1   \n",
       "63     '28007'              'es_travel' 2450.37      1                 1   \n",
       "96     '28007'              'es_health'  842.95      1                 1   \n",
       "69     '28007'              'es_travel' 1777.02      1                 1   \n",
       "61     '28007'       'es_otherservices'  347.38      1                 1   \n",
       "60     '28007'   'es_wellnessandbeauty'  338.54      1                 1   \n",
       "59     '28007'       'es_sportsandtoys'  344.02      1                 1   \n",
       "58     '28007'   'es_wellnessandbeauty'  420.77      1                 1   \n",
       "97     '28007'              'es_health'  234.70      1                 1   \n",
       "57     '28007'       'es_sportsandtoys'   59.57      1                 1   \n",
       "56     '28007'       'es_otherservices'   64.66      1                 1   \n",
       "62     '28007'       'es_sportsandtoys'  337.46      1                 1   \n",
       "95     '28007'              'es_health'  115.72      1                 1   \n",
       "71     '28007'       'es_sportsandtoys'  528.38      1                 1   \n",
       "89     '28007'             'es_leisure'  377.47      1                 1   \n",
       "87     '28007'                'es_home'  503.68      1                 1   \n",
       "86     '28007'              'es_health'  501.51      1                 1   \n",
       "85     '28007'       'es_hotelservices'  629.12      1                 1   \n",
       "\n",
       "    Probability(%) Potentially Fraudulent?  \n",
       "49            0.02                      No  \n",
       "98            0.04                      No  \n",
       "44            7.83                      No  \n",
       "66            0.18                      No  \n",
       "35            0.01                      No  \n",
       "29            0.11                      No  \n",
       "55            9.81                      No  \n",
       "80            0.02                      No  \n",
       "81            0.00                      No  \n",
       "82            0.00                      No  \n",
       "20            0.00                      No  \n",
       "18            1.29                      No  \n",
       "53           44.06                      No  \n",
       "3             0.00                      No  \n",
       "94           16.00                      No  \n",
       "6             0.00                      No  \n",
       "9             0.00                      No  \n",
       "92           27.99                      No  \n",
       "88          100.00                     Yes  \n",
       "68          100.00                     Yes  \n",
       "67          100.00                     Yes  \n",
       "65           85.95                     Yes  \n",
       "64           97.42                     Yes  \n",
       "63          100.00                     Yes  \n",
       "96          100.00                     Yes  \n",
       "69          100.00                     Yes  \n",
       "61          100.00                     Yes  \n",
       "60           57.90                     Yes  \n",
       "59           99.87                     Yes  \n",
       "58          100.00                     Yes  \n",
       "97          100.00                     Yes  \n",
       "57          100.00                     Yes  \n",
       "56           94.49                     Yes  \n",
       "62          100.00                     Yes  \n",
       "95          100.00                     Yes  \n",
       "71          100.00                     Yes  \n",
       "89          100.00                     Yes  \n",
       "87          100.00                     Yes  \n",
       "86           93.63                     Yes  \n",
       "85          100.00                     Yes  "
      ]
     },
     "execution_count": 31,
     "metadata": {},
     "output_type": "execute_result"
    }
   ],
   "source": [
    "pd.set_option('display.float_format', lambda x: '%.2f' % x)\n",
    "df_combined.sort_values(by='Fraud Prediction', ascending = True).head(40)"
   ]
  },
  {
   "cell_type": "code",
   "execution_count": 36,
   "metadata": {},
   "outputs": [
    {
     "name": "stdout",
     "output_type": "stream",
     "text": [
      "Out of 100 fraudulent transactions in the sample_transactions2.csv file, my final model correctly identified 82 transactions as being fraudulent\n"
     ]
    }
   ],
   "source": [
    "count_fraud_prediction = len(df_combined[df_combined['Fraud Prediction'] == 1])\n",
    "print (f'Out of 100 fraudulent transactions in the sample_transactions2.csv file, my final model correctly identified {count_fraud_prediction} transactions as being fraudulent')"
   ]
  }
 ],
 "metadata": {
  "kernelspec": {
   "display_name": "Python (learn-env)",
   "language": "python",
   "name": "learn-env"
  },
  "language_info": {
   "codemirror_mode": {
    "name": "ipython",
    "version": 3
   },
   "file_extension": ".py",
   "mimetype": "text/x-python",
   "name": "python",
   "nbconvert_exporter": "python",
   "pygments_lexer": "ipython3",
   "version": "3.8.5"
  }
 },
 "nbformat": 4,
 "nbformat_minor": 4
}
