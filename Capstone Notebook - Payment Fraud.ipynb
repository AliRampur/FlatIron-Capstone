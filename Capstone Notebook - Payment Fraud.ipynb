{
 "cells": [
  {
   "cell_type": "markdown",
   "metadata": {},
   "source": [
    "# Business Problem: Predicting Fraudulent Payment Transactions"
   ]
  },
  {
   "cell_type": "markdown",
   "metadata": {},
   "source": [
    "Fitris Law has an online retail client who is losing over 10% of annual revenue to fraudulent payments via its online payment portal, which is significantly higher than the industry average (5%).\n",
    "\n",
    "They have asked my firm to develop a model that will identify potentially fraudulent payments and rank these transactions at the end of each weekly period. \n",
    "\n",
    "Using historical payment data extracted from their payment system, I can develop a classification prediction model to identify potential fraudulent transactions (i.e. payments) made by customers.\n",
    "\n",
    "Although this model is built on payment data for a specified location and contains fields that may not readily be available in other transactional datasets, a similar model can be built for various types of electronic/ACH, credit card, online, P2P transactions, etc.\n",
    "\n",
    "The source transactional data was extracted from Kaggle contributor: https://www.kaggle.com/turkayavci\n"
   ]
  },
  {
   "cell_type": "code",
   "execution_count": 4,
   "metadata": {},
   "outputs": [
    {
     "name": "stderr",
     "output_type": "stream",
     "text": [
      "C:\\Users\\alira\\Anaconda3\\envs\\learn-env\\lib\\site-packages\\thefuzz\\fuzz.py:11: UserWarning: Using slow pure-python SequenceMatcher. Install python-Levenshtein to remove this warning\n",
      "  warnings.warn('Using slow pure-python SequenceMatcher. Install python-Levenshtein to remove this warning')\n"
     ]
    }
   ],
   "source": [
    "#import the necessary libraries\n",
    "\n",
    "import numpy as np\n",
    "import pandas as pd\n",
    "import xlrd\n",
    "import os\n",
    "import seaborn as sns\n",
    "from matplotlib import pyplot as plt\n",
    "\n",
    "from sklearn.model_selection import train_test_split, GridSearchCV, cross_val_score\n",
    "from sklearn.linear_model import LogisticRegression, LinearRegression\n",
    "from sklearn.neighbors import KNeighborsClassifier, KNeighborsRegressor\n",
    "from sklearn.tree import DecisionTreeClassifier, DecisionTreeRegressor\n",
    "from sklearn.ensemble import BaggingClassifier, RandomForestClassifier, \\\n",
    "ExtraTreesClassifier, VotingClassifier, StackingRegressor, GradientBoostingClassifier, AdaBoostClassifier\n",
    "from sklearn.metrics import plot_confusion_matrix, recall_score,\\\n",
    "    accuracy_score, precision_score, f1_score\n",
    "from sklearn.metrics import classification_report\n",
    "from sklearn.preprocessing import OneHotEncoder, StandardScaler, FunctionTransformer\n",
    "from sklearn.impute import SimpleImputer\n",
    "from sklearn.pipeline import Pipeline\n",
    "from sklearn.compose import ColumnTransformer,  make_column_selector as selector\n",
    "from sklearn.dummy import DummyClassifier\n",
    "from imblearn.over_sampling import SMOTE\n",
    "from imblearn.pipeline import Pipeline as ImPipeline\n",
    "from imblearn.over_sampling import SMOTENC\n",
    "import pickle\n",
    "\n",
    "import requests\n",
    "from bs4 import BeautifulSoup\n",
    "import pandas as pd\n",
    "\n",
    "from thefuzz import fuzz, process"
   ]
  },
  {
   "cell_type": "markdown",
   "metadata": {},
   "source": [
    "## 1. EDA: Exploratory Data Analysis"
   ]
  },
  {
   "cell_type": "markdown",
   "metadata": {},
   "source": [
    "The first step in the modeling process is to perform exploratory data analysis. This includes:\n",
    "   - Understanding the total quantity of transactions available\n",
    "   - Identifying the variables that are available in the data, and whether they are binary, continuous or categorical\n",
    "   - Identifying whether any null values or NAs exist within the dataset that need to be removed or replaced\n",
    "   - Performing inferential analysis on certain variables. In this case, I will analyze the level of fraud by category, gender and age group\n",
    "   - Analyzing the target variable for potential class imbalance\n",
    "    "
   ]
  },
  {
   "cell_type": "code",
   "execution_count": 5,
   "metadata": {},
   "outputs": [
    {
     "data": {
      "text/html": [
       "<div>\n",
       "<style scoped>\n",
       "    .dataframe tbody tr th:only-of-type {\n",
       "        vertical-align: middle;\n",
       "    }\n",
       "\n",
       "    .dataframe tbody tr th {\n",
       "        vertical-align: top;\n",
       "    }\n",
       "\n",
       "    .dataframe thead th {\n",
       "        text-align: right;\n",
       "    }\n",
       "</style>\n",
       "<table border=\"1\" class=\"dataframe\">\n",
       "  <thead>\n",
       "    <tr style=\"text-align: right;\">\n",
       "      <th></th>\n",
       "      <th>step</th>\n",
       "      <th>customer</th>\n",
       "      <th>age</th>\n",
       "      <th>gender</th>\n",
       "      <th>zipcodeOri</th>\n",
       "      <th>merchant</th>\n",
       "      <th>zipMerchant</th>\n",
       "      <th>category</th>\n",
       "      <th>amount</th>\n",
       "      <th>fraud</th>\n",
       "    </tr>\n",
       "  </thead>\n",
       "  <tbody>\n",
       "    <tr>\n",
       "      <th>0</th>\n",
       "      <td>0</td>\n",
       "      <td>'C1093826151'</td>\n",
       "      <td>'4'</td>\n",
       "      <td>'M'</td>\n",
       "      <td>'28007'</td>\n",
       "      <td>'M348934600'</td>\n",
       "      <td>'28007'</td>\n",
       "      <td>'es_transportation'</td>\n",
       "      <td>4.55</td>\n",
       "      <td>0</td>\n",
       "    </tr>\n",
       "    <tr>\n",
       "      <th>1</th>\n",
       "      <td>0</td>\n",
       "      <td>'C352968107'</td>\n",
       "      <td>'2'</td>\n",
       "      <td>'M'</td>\n",
       "      <td>'28007'</td>\n",
       "      <td>'M348934600'</td>\n",
       "      <td>'28007'</td>\n",
       "      <td>'es_transportation'</td>\n",
       "      <td>39.68</td>\n",
       "      <td>0</td>\n",
       "    </tr>\n",
       "    <tr>\n",
       "      <th>2</th>\n",
       "      <td>0</td>\n",
       "      <td>'C2054744914'</td>\n",
       "      <td>'4'</td>\n",
       "      <td>'F'</td>\n",
       "      <td>'28007'</td>\n",
       "      <td>'M1823072687'</td>\n",
       "      <td>'28007'</td>\n",
       "      <td>'es_transportation'</td>\n",
       "      <td>26.89</td>\n",
       "      <td>0</td>\n",
       "    </tr>\n",
       "    <tr>\n",
       "      <th>3</th>\n",
       "      <td>0</td>\n",
       "      <td>'C1760612790'</td>\n",
       "      <td>'3'</td>\n",
       "      <td>'M'</td>\n",
       "      <td>'28007'</td>\n",
       "      <td>'M348934600'</td>\n",
       "      <td>'28007'</td>\n",
       "      <td>'es_transportation'</td>\n",
       "      <td>17.25</td>\n",
       "      <td>0</td>\n",
       "    </tr>\n",
       "    <tr>\n",
       "      <th>4</th>\n",
       "      <td>0</td>\n",
       "      <td>'C757503768'</td>\n",
       "      <td>'5'</td>\n",
       "      <td>'M'</td>\n",
       "      <td>'28007'</td>\n",
       "      <td>'M348934600'</td>\n",
       "      <td>'28007'</td>\n",
       "      <td>'es_transportation'</td>\n",
       "      <td>35.72</td>\n",
       "      <td>0</td>\n",
       "    </tr>\n",
       "  </tbody>\n",
       "</table>\n",
       "</div>"
      ],
      "text/plain": [
       "   step       customer  age gender zipcodeOri       merchant zipMerchant  \\\n",
       "0     0  'C1093826151'  '4'    'M'    '28007'   'M348934600'     '28007'   \n",
       "1     0   'C352968107'  '2'    'M'    '28007'   'M348934600'     '28007'   \n",
       "2     0  'C2054744914'  '4'    'F'    '28007'  'M1823072687'     '28007'   \n",
       "3     0  'C1760612790'  '3'    'M'    '28007'   'M348934600'     '28007'   \n",
       "4     0   'C757503768'  '5'    'M'    '28007'   'M348934600'     '28007'   \n",
       "\n",
       "              category  amount  fraud  \n",
       "0  'es_transportation'    4.55      0  \n",
       "1  'es_transportation'   39.68      0  \n",
       "2  'es_transportation'   26.89      0  \n",
       "3  'es_transportation'   17.25      0  \n",
       "4  'es_transportation'   35.72      0  "
      ]
     },
     "execution_count": 5,
     "metadata": {},
     "output_type": "execute_result"
    }
   ],
   "source": [
    "bankdata_df_orig = pd.read_csv(\"./source data/bs140513_032310_csv.csv\")\n",
    "bankdata_df_orig.head(5)"
   ]
  },
  {
   "cell_type": "markdown",
   "metadata": {},
   "source": [
    "### Data Dictionary:\n",
    "\n",
    "_Step:_ This feature represents the day from the start of the data aggregation. It covers a period of 6 months.\n",
    "\n",
    "_Customer:_ Customer id\n",
    "\n",
    "_zipCodeOrigin:_ The zip code of origin/source.\n",
    "\n",
    "_Merchant:_ The merchant id\n",
    "\n",
    "_zipMerchant:_ The merchant zip code\n",
    "\n",
    "_Age:_ Categorized age\n",
    "0: <= 18,\n",
    "1: 19-25,\n",
    "2: 26-35,\n",
    "3: 36-45,\n",
    "4: 46:55,\n",
    "5: 56:65,\n",
    "6: > 65\n",
    "U: Unknown\n",
    "\n",
    "_Gender:_ \n",
    "E : Enterprise\n",
    "F: Female\n",
    "M: Male\n",
    "U: Unknown\n",
    "\n",
    "_Category:_ Category of the purchase\n",
    "\n",
    "_Amount:_ Amount of the purchase\n",
    "\n",
    "_Fraud:_ Target - fraudulent(1) or not(0)"
   ]
  },
  {
   "cell_type": "markdown",
   "metadata": {},
   "source": [
    "Due to volume of transactions in the dataset and the limited amount of RAM on my personal device, I had to randomly sample 100,000 payment transactions from the original source data. The original dataset had 7,200 fraudulent transactions whereas the sampled dataset used for my model has 1,198. Both the original and sampled dataset have approximately 1.2% fraudulent tranactions."
   ]
  },
  {
   "cell_type": "code",
   "execution_count": 6,
   "metadata": {},
   "outputs": [],
   "source": [
    "bankdata_df = bankdata_df_orig.sample(n=100000, random_state=42)"
   ]
  },
  {
   "cell_type": "code",
   "execution_count": 13,
   "metadata": {},
   "outputs": [],
   "source": [
    "#The data collection started on a Monday (step = 1). Add in feature to represent the day of each transaction.\n",
    "\n",
    "def day_func(numday):\n",
    "    if (numday - 1) == 0 or (numday - 1) % 7 == 0:\n",
    "        return 'Monday'\n",
    "    elif (numday - 2) == 0 or (numday - 2) % 7 == 0:\n",
    "        return 'Tuesday'\n",
    "    elif (numday - 3) == 0 or (numday - 3) % 7 == 0:\n",
    "        return 'Wednesday'\n",
    "    elif (numday - 4) == 0 or (numday - 4) % 7 == 0:\n",
    "        return 'Thursday'\n",
    "    elif (numday - 5) == 0 or (numday - 5) % 7 == 0:\n",
    "        return 'Friday'\n",
    "    elif (numday - 6) == 0 or (numday - 6) % 7 == 0:\n",
    "        return 'Saturday'\n",
    "    elif (numday - 7) == 0 or (numday - 7) % 7 == 0:\n",
    "        return 'Sunday'\n",
    "\n",
    "bankdata_df['day']=bankdata_df['step'].apply(lambda x: day_func(x))"
   ]
  },
  {
   "cell_type": "code",
   "execution_count": 14,
   "metadata": {},
   "outputs": [
    {
     "data": {
      "text/plain": [
       "step           7200\n",
       "customer       7200\n",
       "age            7200\n",
       "gender         7200\n",
       "zipcodeOri     7200\n",
       "merchant       7200\n",
       "zipMerchant    7200\n",
       "category       7200\n",
       "amount         7200\n",
       "fraud          7200\n",
       "dtype: int64"
      ]
     },
     "execution_count": 14,
     "metadata": {},
     "output_type": "execute_result"
    }
   ],
   "source": [
    "bankdata_df_orig[bankdata_df_orig['fraud'] == 1].count()"
   ]
  },
  {
   "cell_type": "code",
   "execution_count": 15,
   "metadata": {},
   "outputs": [
    {
     "data": {
      "text/plain": [
       "step           1198\n",
       "customer       1198\n",
       "age            1198\n",
       "gender         1198\n",
       "zipcodeOri     1198\n",
       "merchant       1198\n",
       "zipMerchant    1198\n",
       "category       1198\n",
       "amount         1198\n",
       "fraud          1198\n",
       "day            1198\n",
       "dtype: int64"
      ]
     },
     "execution_count": 15,
     "metadata": {},
     "output_type": "execute_result"
    }
   ],
   "source": [
    "bankdata_df[bankdata_df['fraud'] == 1].count()"
   ]
  },
  {
   "cell_type": "code",
   "execution_count": 16,
   "metadata": {},
   "outputs": [
    {
     "name": "stdout",
     "output_type": "stream",
     "text": [
      "<class 'pandas.core.frame.DataFrame'>\n",
      "Int64Index: 100000 entries, 70803 to 234341\n",
      "Data columns (total 11 columns):\n",
      " #   Column       Non-Null Count   Dtype  \n",
      "---  ------       --------------   -----  \n",
      " 0   step         100000 non-null  int64  \n",
      " 1   customer     100000 non-null  object \n",
      " 2   age          100000 non-null  object \n",
      " 3   gender       100000 non-null  object \n",
      " 4   zipcodeOri   100000 non-null  object \n",
      " 5   merchant     100000 non-null  object \n",
      " 6   zipMerchant  100000 non-null  object \n",
      " 7   category     100000 non-null  object \n",
      " 8   amount       100000 non-null  float64\n",
      " 9   fraud        100000 non-null  int64  \n",
      " 10  day          100000 non-null  object \n",
      "dtypes: float64(1), int64(2), object(8)\n",
      "memory usage: 9.2+ MB\n"
     ]
    }
   ],
   "source": [
    "bankdata_df.info()"
   ]
  },
  {
   "cell_type": "code",
   "execution_count": 17,
   "metadata": {},
   "outputs": [
    {
     "data": {
      "text/plain": [
       "0    0.98802\n",
       "1    0.01198\n",
       "Name: fraud, dtype: float64"
      ]
     },
     "execution_count": 17,
     "metadata": {},
     "output_type": "execute_result"
    }
   ],
   "source": [
    "bankdata_df['fraud'].value_counts(normalize=True)"
   ]
  },
  {
   "cell_type": "code",
   "execution_count": 18,
   "metadata": {},
   "outputs": [
    {
     "data": {
      "text/plain": [
       "0    98802\n",
       "1     1198\n",
       "Name: fraud, dtype: int64"
      ]
     },
     "execution_count": 18,
     "metadata": {},
     "output_type": "execute_result"
    }
   ],
   "source": [
    "bankdata_df['fraud'].value_counts()"
   ]
  },
  {
   "cell_type": "markdown",
   "metadata": {},
   "source": [
    "We can see that only 1.2% of the payments were identified as being fraudulent. This is a clear imbalanced dataset which I will have to address prior to building a predictive model."
   ]
  },
  {
   "cell_type": "code",
   "execution_count": 19,
   "metadata": {},
   "outputs": [
    {
     "data": {
      "text/plain": [
       "category\n",
       "'es_transportation'        2295218.78\n",
       "'es_health'                 369949.82\n",
       "'es_travel'                 249177.60\n",
       "'es_food'                   165032.61\n",
       "'es_wellnessandbeauty'      163941.81\n",
       "'es_sportsandtoys'          146861.53\n",
       "'es_fashion'                 69185.68\n",
       "'es_hotelservices'           60030.01\n",
       "'es_home'                    57511.34\n",
       "'es_tech'                    49596.81\n",
       "'es_hyper'                   48566.30\n",
       "'es_barsandrestaurants'      43598.62\n",
       "'es_leisure'                 22388.79\n",
       "'es_otherservices'           21319.17\n",
       "'es_contents'                 6437.92\n",
       "Name: amount, dtype: float64"
      ]
     },
     "execution_count": 19,
     "metadata": {},
     "output_type": "execute_result"
    }
   ],
   "source": [
    "bankdata_df.groupby('category')['amount'].sum().sort_values(ascending=False)"
   ]
  },
  {
   "cell_type": "code",
   "execution_count": 20,
   "metadata": {},
   "outputs": [
    {
     "name": "stderr",
     "output_type": "stream",
     "text": [
      "<ipython-input-20-f824a1c2cb23>:1: FutureWarning: Indexing with multiple keys (implicitly converted to a tuple of keys) will be deprecated, use a list instead.\n",
      "  bankdata_df[bankdata_df['fraud']== 1].groupby('category')['amount','fraud'].sum().sort_values(by='amount',ascending=False)\n"
     ]
    },
    {
     "data": {
      "text/html": [
       "<div>\n",
       "<style scoped>\n",
       "    .dataframe tbody tr th:only-of-type {\n",
       "        vertical-align: middle;\n",
       "    }\n",
       "\n",
       "    .dataframe tbody tr th {\n",
       "        vertical-align: top;\n",
       "    }\n",
       "\n",
       "    .dataframe thead th {\n",
       "        text-align: right;\n",
       "    }\n",
       "</style>\n",
       "<table border=\"1\" class=\"dataframe\">\n",
       "  <thead>\n",
       "    <tr style=\"text-align: right;\">\n",
       "      <th></th>\n",
       "      <th>amount</th>\n",
       "      <th>fraud</th>\n",
       "    </tr>\n",
       "    <tr>\n",
       "      <th>category</th>\n",
       "      <th></th>\n",
       "      <th></th>\n",
       "    </tr>\n",
       "  </thead>\n",
       "  <tbody>\n",
       "    <tr>\n",
       "      <th>'es_travel'</th>\n",
       "      <td>232958.77</td>\n",
       "      <td>90</td>\n",
       "    </tr>\n",
       "    <tr>\n",
       "      <th>'es_health'</th>\n",
       "      <td>126534.35</td>\n",
       "      <td>298</td>\n",
       "    </tr>\n",
       "    <tr>\n",
       "      <th>'es_sportsandtoys'</th>\n",
       "      <td>117447.41</td>\n",
       "      <td>336</td>\n",
       "    </tr>\n",
       "    <tr>\n",
       "      <th>'es_hotelservices'</th>\n",
       "      <td>40521.05</td>\n",
       "      <td>95</td>\n",
       "    </tr>\n",
       "    <tr>\n",
       "      <th>'es_home'</th>\n",
       "      <td>24552.93</td>\n",
       "      <td>53</td>\n",
       "    </tr>\n",
       "    <tr>\n",
       "      <th>'es_wellnessandbeauty'</th>\n",
       "      <td>23037.69</td>\n",
       "      <td>101</td>\n",
       "    </tr>\n",
       "    <tr>\n",
       "      <th>'es_leisure'</th>\n",
       "      <td>22059.54</td>\n",
       "      <td>77</td>\n",
       "    </tr>\n",
       "    <tr>\n",
       "      <th>'es_otherservices'</th>\n",
       "      <td>12370.10</td>\n",
       "      <td>38</td>\n",
       "    </tr>\n",
       "    <tr>\n",
       "      <th>'es_tech'</th>\n",
       "      <td>12131.77</td>\n",
       "      <td>28</td>\n",
       "    </tr>\n",
       "    <tr>\n",
       "      <th>'es_hyper'</th>\n",
       "      <td>9167.40</td>\n",
       "      <td>47</td>\n",
       "    </tr>\n",
       "    <tr>\n",
       "      <th>'es_fashion'</th>\n",
       "      <td>4011.60</td>\n",
       "      <td>18</td>\n",
       "    </tr>\n",
       "    <tr>\n",
       "      <th>'es_barsandrestaurants'</th>\n",
       "      <td>2633.34</td>\n",
       "      <td>17</td>\n",
       "    </tr>\n",
       "  </tbody>\n",
       "</table>\n",
       "</div>"
      ],
      "text/plain": [
       "                            amount  fraud\n",
       "category                                 \n",
       "'es_travel'              232958.77     90\n",
       "'es_health'              126534.35    298\n",
       "'es_sportsandtoys'       117447.41    336\n",
       "'es_hotelservices'        40521.05     95\n",
       "'es_home'                 24552.93     53\n",
       "'es_wellnessandbeauty'    23037.69    101\n",
       "'es_leisure'              22059.54     77\n",
       "'es_otherservices'        12370.10     38\n",
       "'es_tech'                 12131.77     28\n",
       "'es_hyper'                 9167.40     47\n",
       "'es_fashion'               4011.60     18\n",
       "'es_barsandrestaurants'    2633.34     17"
      ]
     },
     "execution_count": 20,
     "metadata": {},
     "output_type": "execute_result"
    }
   ],
   "source": [
    "bankdata_df[bankdata_df['fraud']== 1].groupby('category')['amount','fraud'].sum().sort_values(by='amount',ascending=False)"
   ]
  },
  {
   "cell_type": "code",
   "execution_count": 17,
   "metadata": {},
   "outputs": [
    {
     "data": {
      "text/plain": [
       "category\n",
       "'es_travel'                2588.430778\n",
       "'es_home'                   463.262830\n",
       "'es_tech'                   433.277500\n",
       "'es_hotelservices'          426.537368\n",
       "'es_health'                 424.611913\n",
       "'es_sportsandtoys'          349.545863\n",
       "'es_otherservices'          325.528947\n",
       "'es_leisure'                286.487532\n",
       "'es_wellnessandbeauty'      228.095941\n",
       "'es_fashion'                222.866667\n",
       "'es_hyper'                  195.051064\n",
       "'es_barsandrestaurants'     154.902353\n",
       "Name: amount, dtype: float64"
      ]
     },
     "execution_count": 17,
     "metadata": {},
     "output_type": "execute_result"
    }
   ],
   "source": [
    "Avg_fraud_df = bankdata_df[bankdata_df['fraud']== 1].groupby('category')['amount'].mean().sort_values(ascending=False)\n",
    "Avg_fraud_df"
   ]
  },
  {
   "cell_type": "code",
   "execution_count": 18,
   "metadata": {},
   "outputs": [
    {
     "data": {
      "text/plain": [
       "category\n",
       "'es_travel'                648.753200\n",
       "'es_home'                  114.438924\n",
       "'es_health'                102.837123\n",
       "'es_hotelservices'         102.141152\n",
       "'es_tech'                  102.084578\n",
       "'es_sportsandtoys'          90.227362\n",
       "'es_otherservices'          76.487778\n",
       "'es_leisure'                65.850000\n",
       "'es_fashion'                60.123690\n",
       "'es_wellnessandbeauty'      57.582395\n",
       "'es_contents'               47.688296\n",
       "'es_barsandrestaurants'     41.337316\n",
       "'es_hyper'                  38.588541\n",
       "'es_food'                   36.649480\n",
       "'es_transportation'         27.023239\n",
       "Name: amount, dtype: float64"
      ]
     },
     "execution_count": 18,
     "metadata": {},
     "output_type": "execute_result"
    }
   ],
   "source": [
    "bankdata_df[bankdata_df['fraud']== 0].groupby('category')['amount'].mean().sort_values(ascending=False)"
   ]
  },
  {
   "cell_type": "code",
   "execution_count": 21,
   "metadata": {},
   "outputs": [],
   "source": [
    "df_fraud = bankdata_df.loc[bankdata_df.fraud == 1] \n",
    "df_non_fraud = bankdata_df.loc[bankdata_df.fraud == 0]"
   ]
  },
  {
   "cell_type": "code",
   "execution_count": 20,
   "metadata": {},
   "outputs": [],
   "source": [
    "graph_df = pd.concat([df_fraud.groupby('category')['amount'].mean(),df_fraud.groupby('category')['amount'].sum(),df_non_fraud.groupby('category')['amount'].mean(),df_non_fraud.groupby('category')['amount'].sum()],keys=[\"Fraudulent (avg)\",\"Fraudulent (sum)\",\"Not Fraudulent (avg)\",\"Not Fraudulent (sum)\"],axis=1)"
   ]
  },
  {
   "cell_type": "code",
   "execution_count": 21,
   "metadata": {},
   "outputs": [],
   "source": [
    "graph_df = graph_df.reset_index()"
   ]
  },
  {
   "cell_type": "code",
   "execution_count": 22,
   "metadata": {},
   "outputs": [
    {
     "data": {
      "text/html": [
       "<div>\n",
       "<style scoped>\n",
       "    .dataframe tbody tr th:only-of-type {\n",
       "        vertical-align: middle;\n",
       "    }\n",
       "\n",
       "    .dataframe tbody tr th {\n",
       "        vertical-align: top;\n",
       "    }\n",
       "\n",
       "    .dataframe thead th {\n",
       "        text-align: right;\n",
       "    }\n",
       "</style>\n",
       "<table border=\"1\" class=\"dataframe\">\n",
       "  <thead>\n",
       "    <tr style=\"text-align: right;\">\n",
       "      <th></th>\n",
       "      <th>Category</th>\n",
       "      <th>Fraudulent (avg)</th>\n",
       "      <th>Fraudulent (sum)</th>\n",
       "      <th>Not Fraudulent (avg)</th>\n",
       "      <th>Not Fraudulent (sum)</th>\n",
       "    </tr>\n",
       "  </thead>\n",
       "  <tbody>\n",
       "    <tr>\n",
       "      <th>10</th>\n",
       "      <td>'es_travel'</td>\n",
       "      <td>2588.430778</td>\n",
       "      <td>232958.77</td>\n",
       "      <td>648.753200</td>\n",
       "      <td>16218.83</td>\n",
       "    </tr>\n",
       "    <tr>\n",
       "      <th>3</th>\n",
       "      <td>'es_home'</td>\n",
       "      <td>463.262830</td>\n",
       "      <td>24552.93</td>\n",
       "      <td>114.438924</td>\n",
       "      <td>32958.41</td>\n",
       "    </tr>\n",
       "    <tr>\n",
       "      <th>9</th>\n",
       "      <td>'es_tech'</td>\n",
       "      <td>433.277500</td>\n",
       "      <td>12131.77</td>\n",
       "      <td>102.084578</td>\n",
       "      <td>37465.04</td>\n",
       "    </tr>\n",
       "    <tr>\n",
       "      <th>4</th>\n",
       "      <td>'es_hotelservices'</td>\n",
       "      <td>426.537368</td>\n",
       "      <td>40521.05</td>\n",
       "      <td>102.141152</td>\n",
       "      <td>19508.96</td>\n",
       "    </tr>\n",
       "    <tr>\n",
       "      <th>2</th>\n",
       "      <td>'es_health'</td>\n",
       "      <td>424.611913</td>\n",
       "      <td>126534.35</td>\n",
       "      <td>102.837123</td>\n",
       "      <td>243415.47</td>\n",
       "    </tr>\n",
       "    <tr>\n",
       "      <th>8</th>\n",
       "      <td>'es_sportsandtoys'</td>\n",
       "      <td>349.545863</td>\n",
       "      <td>117447.41</td>\n",
       "      <td>90.227362</td>\n",
       "      <td>29414.12</td>\n",
       "    </tr>\n",
       "    <tr>\n",
       "      <th>7</th>\n",
       "      <td>'es_otherservices'</td>\n",
       "      <td>325.528947</td>\n",
       "      <td>12370.10</td>\n",
       "      <td>76.487778</td>\n",
       "      <td>8949.07</td>\n",
       "    </tr>\n",
       "    <tr>\n",
       "      <th>6</th>\n",
       "      <td>'es_leisure'</td>\n",
       "      <td>286.487532</td>\n",
       "      <td>22059.54</td>\n",
       "      <td>65.850000</td>\n",
       "      <td>329.25</td>\n",
       "    </tr>\n",
       "    <tr>\n",
       "      <th>11</th>\n",
       "      <td>'es_wellnessandbeauty'</td>\n",
       "      <td>228.095941</td>\n",
       "      <td>23037.69</td>\n",
       "      <td>57.582395</td>\n",
       "      <td>140904.12</td>\n",
       "    </tr>\n",
       "    <tr>\n",
       "      <th>1</th>\n",
       "      <td>'es_fashion'</td>\n",
       "      <td>222.866667</td>\n",
       "      <td>4011.60</td>\n",
       "      <td>60.123690</td>\n",
       "      <td>65174.08</td>\n",
       "    </tr>\n",
       "    <tr>\n",
       "      <th>5</th>\n",
       "      <td>'es_hyper'</td>\n",
       "      <td>195.051064</td>\n",
       "      <td>9167.40</td>\n",
       "      <td>38.588541</td>\n",
       "      <td>39398.90</td>\n",
       "    </tr>\n",
       "    <tr>\n",
       "      <th>0</th>\n",
       "      <td>'es_barsandrestaurants'</td>\n",
       "      <td>154.902353</td>\n",
       "      <td>2633.34</td>\n",
       "      <td>41.337316</td>\n",
       "      <td>40965.28</td>\n",
       "    </tr>\n",
       "    <tr>\n",
       "      <th>12</th>\n",
       "      <td>'es_contents'</td>\n",
       "      <td>NaN</td>\n",
       "      <td>NaN</td>\n",
       "      <td>47.688296</td>\n",
       "      <td>6437.92</td>\n",
       "    </tr>\n",
       "    <tr>\n",
       "      <th>13</th>\n",
       "      <td>'es_food'</td>\n",
       "      <td>NaN</td>\n",
       "      <td>NaN</td>\n",
       "      <td>36.649480</td>\n",
       "      <td>165032.61</td>\n",
       "    </tr>\n",
       "    <tr>\n",
       "      <th>14</th>\n",
       "      <td>'es_transportation'</td>\n",
       "      <td>NaN</td>\n",
       "      <td>NaN</td>\n",
       "      <td>27.023239</td>\n",
       "      <td>2295218.78</td>\n",
       "    </tr>\n",
       "  </tbody>\n",
       "</table>\n",
       "</div>"
      ],
      "text/plain": [
       "                   Category  Fraudulent (avg)  Fraudulent (sum)  \\\n",
       "10              'es_travel'       2588.430778         232958.77   \n",
       "3                 'es_home'        463.262830          24552.93   \n",
       "9                 'es_tech'        433.277500          12131.77   \n",
       "4        'es_hotelservices'        426.537368          40521.05   \n",
       "2               'es_health'        424.611913         126534.35   \n",
       "8        'es_sportsandtoys'        349.545863         117447.41   \n",
       "7        'es_otherservices'        325.528947          12370.10   \n",
       "6              'es_leisure'        286.487532          22059.54   \n",
       "11   'es_wellnessandbeauty'        228.095941          23037.69   \n",
       "1              'es_fashion'        222.866667           4011.60   \n",
       "5                'es_hyper'        195.051064           9167.40   \n",
       "0   'es_barsandrestaurants'        154.902353           2633.34   \n",
       "12            'es_contents'               NaN               NaN   \n",
       "13                'es_food'               NaN               NaN   \n",
       "14      'es_transportation'               NaN               NaN   \n",
       "\n",
       "    Not Fraudulent (avg)  Not Fraudulent (sum)  \n",
       "10            648.753200              16218.83  \n",
       "3             114.438924              32958.41  \n",
       "9             102.084578              37465.04  \n",
       "4             102.141152              19508.96  \n",
       "2             102.837123             243415.47  \n",
       "8              90.227362              29414.12  \n",
       "7              76.487778               8949.07  \n",
       "6              65.850000                329.25  \n",
       "11             57.582395             140904.12  \n",
       "1              60.123690              65174.08  \n",
       "5              38.588541              39398.90  \n",
       "0              41.337316              40965.28  \n",
       "12             47.688296               6437.92  \n",
       "13             36.649480             165032.61  \n",
       "14             27.023239            2295218.78  "
      ]
     },
     "execution_count": 22,
     "metadata": {},
     "output_type": "execute_result"
    }
   ],
   "source": [
    "graph_df = graph_df.rename(columns={\"index\":\"Category\"})\n",
    "graph_df = graph_df.sort_values(by='Fraudulent (avg)', ascending=False)\n",
    "graph_df"
   ]
  },
  {
   "cell_type": "code",
   "execution_count": 23,
   "metadata": {},
   "outputs": [
    {
     "data": {
      "text/plain": [
       "627425.95"
      ]
     },
     "execution_count": 23,
     "metadata": {},
     "output_type": "execute_result"
    }
   ],
   "source": [
    "bankdata_df[bankdata_df['fraud']== 1]['amount'].sum()"
   ]
  },
  {
   "cell_type": "markdown",
   "metadata": {},
   "source": [
    "Looking at the tables above, we can make the following observations on the dataset:\n",
    "- Total fraud across the 100,000 transactions was $627,425.95\n",
    "- The most common (i.e. count) of fraud occurred in the 'sports and toys' category\n",
    "- The most costly (i.e. total dollars ) of fraud occurred in the 'travel' category\n",
    "- The average fraudulent transaction is higher than the average non-fraudulent transaction in every category\n",
    "- There was no fraud identified in the transportation, food, and contents categories.\n"
   ]
  },
  {
   "cell_type": "code",
   "execution_count": 22,
   "metadata": {},
   "outputs": [
    {
     "data": {
      "text/plain": [
       "step           0\n",
       "customer       0\n",
       "age            0\n",
       "gender         0\n",
       "zipcodeOri     0\n",
       "merchant       0\n",
       "zipMerchant    0\n",
       "category       0\n",
       "amount         0\n",
       "fraud          0\n",
       "day            0\n",
       "dtype: int64"
      ]
     },
     "execution_count": 22,
     "metadata": {},
     "output_type": "execute_result"
    }
   ],
   "source": [
    "bankdata_df.isna().sum()"
   ]
  },
  {
   "cell_type": "markdown",
   "metadata": {},
   "source": [
    "The dataset does not have any null or any NA values, so no replacement or removal is necessary."
   ]
  },
  {
   "cell_type": "code",
   "execution_count": 25,
   "metadata": {
    "scrolled": true
   },
   "outputs": [
    {
     "data": {
      "image/png": "[encoded data removed]",
      "text/plain": [
       "<Figure size 1152x864 with 1 Axes>"
      ]
     },
     "metadata": {
      "needs_background": "light"
     },
     "output_type": "display_data"
    }
   ],
   "source": [
    "plt.figure(figsize=(16,12))\n",
    "ax = sns.barplot(y='Fraudulent (sum)' , x='Category', data=graph_df.sort_values('Fraudulent (sum)',ascending=False).head(5))\n",
    "plt.title(\"Graph of Total Fraudulent Payments by Category - Top 5\")\n",
    "sns.set(font_scale=2)\n",
    "ax.set_xticklabels(['Travel','Health','Sports and Toys','Hotel Services','Home'])\n",
    "plt.savefig('./graphs/Total_fraud_category.png')\n",
    "\n",
    "plt.show()"
   ]
  },
  {
   "cell_type": "code",
   "execution_count": null,
   "metadata": {},
   "outputs": [],
   "source": []
  },
  {
   "cell_type": "code",
   "execution_count": 26,
   "metadata": {},
   "outputs": [
    {
     "data": {
      "image/png": "[encoded data removed]",
      "text/plain": [
       "<Figure size 1152x864 with 1 Axes>"
      ]
     },
     "metadata": {},
     "output_type": "display_data"
    }
   ],
   "source": [
    "plt.figure(figsize=(16,12))\n",
    "ax = sns.barplot(y='Fraudulent (avg)' , x='Category', data=graph_df.sort_values('Fraudulent (avg)',ascending=False).head(5))\n",
    "plt.title(\"Graph of Avg Fraudulent Payments by Category - Top 5\")\n",
    "ax.set_xticklabels(['Travel','Home','Tech','Hotel Services','Health'])\n",
    "plt.savefig('./graphs/Avg_fraud_category.png')\n",
    "\n",
    "plt.show()"
   ]
  },
  {
   "cell_type": "code",
   "execution_count": 27,
   "metadata": {},
   "outputs": [
    {
     "data": {
      "image/png": "[encoded data removed]",
      "text/plain": [
       "<Figure size 1152x864 with 1 Axes>"
      ]
     },
     "metadata": {},
     "output_type": "display_data"
    }
   ],
   "source": [
    "plt.figure(figsize=(16,12))\n",
    "ax = sns.barplot(y='age', x='amount', color='blue',data=bankdata_df[bankdata_df['fraud']==1],ci=False, estimator=sum)\n",
    "plt.title(\"Total Fraudulent Payments by Age\")\n",
    "ax.set_yticklabels(['36-45','19-25','26-35','56-65','46-55','> 65 ','<= 18','Unknown'])\n",
    "plt.savefig('./graphs/Total_Fraud_ByAge.png')\n",
    "\n",
    "\n",
    "plt.show()\n",
    "\n",
    "#0: <= 18, 1: 19-25, 2: 26-35, 3: 36-45, 4: 46:55, 5: 56:65, 6: > 65 U: Unknown"
   ]
  },
  {
   "cell_type": "code",
   "execution_count": 28,
   "metadata": {},
   "outputs": [
    {
     "data": {
      "image/png": "[encoded data removed]",
      "text/plain": [
       "<Figure size 1152x864 with 1 Axes>"
      ]
     },
     "metadata": {},
     "output_type": "display_data"
    }
   ],
   "source": [
    "plt.figure(figsize=(16,12))\n",
    "ax = sns.barplot(y='gender', x='amount', color='green',data=bankdata_df[bankdata_df['fraud']==1],ci=False, estimator=sum)\n",
    "plt.title(\"Total Fraudulent Payments by Gender\")\n",
    "ax.set_yticklabels(['Female','Male','Enterprise'])\n",
    "plt.savefig('./graphs/Total_Fraud_ByGender.png')\n",
    "\n",
    "\n",
    "plt.show()\n",
    "\n"
   ]
  },
  {
   "cell_type": "code",
   "execution_count": 29,
   "metadata": {},
   "outputs": [
    {
     "data": {
      "image/png": "[encoded data removed]",
      "text/plain": [
       "<Figure size 1152x864 with 1 Axes>"
      ]
     },
     "metadata": {},
     "output_type": "display_data"
    }
   ],
   "source": [
    "plt.figure(figsize=(16,12))\n",
    "ax = sns.scatterplot(x=bankdata_df.step,y=bankdata_df.amount,hue=bankdata_df.fraud)\n",
    "plt.title(\"Scatter Plot of Payment Type by Day\")\n",
    "\n",
    "\n",
    "ax.set_xlabel('Day #')\n",
    "\n",
    "plt.legend()\n",
    "\n",
    "plt.savefig('./graphs/Total_FraudbyDay.png')\n",
    "\n",
    "plt.show()"
   ]
  },
  {
   "cell_type": "code",
   "execution_count": 23,
   "metadata": {},
   "outputs": [
    {
     "data": {
      "text/html": [
       "<div>\n",
       "<style scoped>\n",
       "    .dataframe tbody tr th:only-of-type {\n",
       "        vertical-align: middle;\n",
       "    }\n",
       "\n",
       "    .dataframe tbody tr th {\n",
       "        vertical-align: top;\n",
       "    }\n",
       "\n",
       "    .dataframe thead th {\n",
       "        text-align: right;\n",
       "    }\n",
       "</style>\n",
       "<table border=\"1\" class=\"dataframe\">\n",
       "  <thead>\n",
       "    <tr style=\"text-align: right;\">\n",
       "      <th></th>\n",
       "      <th>step</th>\n",
       "      <th>amount</th>\n",
       "      <th>fraud</th>\n",
       "    </tr>\n",
       "  </thead>\n",
       "  <tbody>\n",
       "    <tr>\n",
       "      <th>count</th>\n",
       "      <td>100000.00000</td>\n",
       "      <td>100000.000000</td>\n",
       "      <td>100000.000000</td>\n",
       "    </tr>\n",
       "    <tr>\n",
       "      <th>mean</th>\n",
       "      <td>94.97734</td>\n",
       "      <td>37.688168</td>\n",
       "      <td>0.011980</td>\n",
       "    </tr>\n",
       "    <tr>\n",
       "      <th>std</th>\n",
       "      <td>51.07953</td>\n",
       "      <td>106.917213</td>\n",
       "      <td>0.108796</td>\n",
       "    </tr>\n",
       "    <tr>\n",
       "      <th>min</th>\n",
       "      <td>0.00000</td>\n",
       "      <td>0.000000</td>\n",
       "      <td>0.000000</td>\n",
       "    </tr>\n",
       "    <tr>\n",
       "      <th>25%</th>\n",
       "      <td>52.00000</td>\n",
       "      <td>13.810000</td>\n",
       "      <td>0.000000</td>\n",
       "    </tr>\n",
       "    <tr>\n",
       "      <th>50%</th>\n",
       "      <td>97.00000</td>\n",
       "      <td>27.000000</td>\n",
       "      <td>0.000000</td>\n",
       "    </tr>\n",
       "    <tr>\n",
       "      <th>75%</th>\n",
       "      <td>139.00000</td>\n",
       "      <td>42.480000</td>\n",
       "      <td>0.000000</td>\n",
       "    </tr>\n",
       "    <tr>\n",
       "      <th>max</th>\n",
       "      <td>179.00000</td>\n",
       "      <td>7134.390000</td>\n",
       "      <td>1.000000</td>\n",
       "    </tr>\n",
       "  </tbody>\n",
       "</table>\n",
       "</div>"
      ],
      "text/plain": [
       "               step         amount          fraud\n",
       "count  100000.00000  100000.000000  100000.000000\n",
       "mean       94.97734      37.688168       0.011980\n",
       "std        51.07953     106.917213       0.108796\n",
       "min         0.00000       0.000000       0.000000\n",
       "25%        52.00000      13.810000       0.000000\n",
       "50%        97.00000      27.000000       0.000000\n",
       "75%       139.00000      42.480000       0.000000\n",
       "max       179.00000    7134.390000       1.000000"
      ]
     },
     "execution_count": 23,
     "metadata": {},
     "output_type": "execute_result"
    }
   ],
   "source": [
    "bankdata_df.describe()"
   ]
  },
  {
   "cell_type": "code",
   "execution_count": 31,
   "metadata": {},
   "outputs": [
    {
     "data": {
      "text/plain": [
       "'28007'    100000\n",
       "Name: zipcodeOri, dtype: int64"
      ]
     },
     "execution_count": 31,
     "metadata": {},
     "output_type": "execute_result"
    }
   ],
   "source": [
    "bankdata_df['zipcodeOri'].value_counts()"
   ]
  },
  {
   "cell_type": "code",
   "execution_count": 32,
   "metadata": {},
   "outputs": [
    {
     "data": {
      "text/plain": [
       "'28007'    100000\n",
       "Name: zipMerchant, dtype: int64"
      ]
     },
     "execution_count": 32,
     "metadata": {},
     "output_type": "execute_result"
    }
   ],
   "source": [
    "bankdata_df['zipMerchant'].value_counts()"
   ]
  },
  {
   "cell_type": "markdown",
   "metadata": {},
   "source": [
    "Since there is only one zipcode and 1 merchant zipcode, I will remove these from the dataframe."
   ]
  },
  {
   "cell_type": "code",
   "execution_count": 24,
   "metadata": {},
   "outputs": [],
   "source": [
    "bankdata_df = bankdata_df.drop(columns=['zipcodeOri','zipMerchant','step'])"
   ]
  },
  {
   "cell_type": "code",
   "execution_count": 25,
   "metadata": {},
   "outputs": [
    {
     "data": {
      "text/html": [
       "<div>\n",
       "<style scoped>\n",
       "    .dataframe tbody tr th:only-of-type {\n",
       "        vertical-align: middle;\n",
       "    }\n",
       "\n",
       "    .dataframe tbody tr th {\n",
       "        vertical-align: top;\n",
       "    }\n",
       "\n",
       "    .dataframe thead th {\n",
       "        text-align: right;\n",
       "    }\n",
       "</style>\n",
       "<table border=\"1\" class=\"dataframe\">\n",
       "  <thead>\n",
       "    <tr style=\"text-align: right;\">\n",
       "      <th></th>\n",
       "      <th>customer</th>\n",
       "      <th>age</th>\n",
       "      <th>gender</th>\n",
       "      <th>merchant</th>\n",
       "      <th>category</th>\n",
       "      <th>amount</th>\n",
       "      <th>fraud</th>\n",
       "      <th>day</th>\n",
       "    </tr>\n",
       "  </thead>\n",
       "  <tbody>\n",
       "    <tr>\n",
       "      <th>70803</th>\n",
       "      <td>'C746862122'</td>\n",
       "      <td>'3'</td>\n",
       "      <td>'M'</td>\n",
       "      <td>'M348934600'</td>\n",
       "      <td>'es_transportation'</td>\n",
       "      <td>11.65</td>\n",
       "      <td>0</td>\n",
       "      <td>Friday</td>\n",
       "    </tr>\n",
       "    <tr>\n",
       "      <th>470791</th>\n",
       "      <td>'C1760492708'</td>\n",
       "      <td>'1'</td>\n",
       "      <td>'F'</td>\n",
       "      <td>'M1823072687'</td>\n",
       "      <td>'es_transportation'</td>\n",
       "      <td>1.60</td>\n",
       "      <td>0</td>\n",
       "      <td>Saturday</td>\n",
       "    </tr>\n",
       "    <tr>\n",
       "      <th>568310</th>\n",
       "      <td>'C1984083185'</td>\n",
       "      <td>'3'</td>\n",
       "      <td>'F'</td>\n",
       "      <td>'M1823072687'</td>\n",
       "      <td>'es_transportation'</td>\n",
       "      <td>33.36</td>\n",
       "      <td>0</td>\n",
       "      <td>Thursday</td>\n",
       "    </tr>\n",
       "    <tr>\n",
       "      <th>23709</th>\n",
       "      <td>'C1530262146'</td>\n",
       "      <td>'2'</td>\n",
       "      <td>'M'</td>\n",
       "      <td>'M1823072687'</td>\n",
       "      <td>'es_transportation'</td>\n",
       "      <td>8.01</td>\n",
       "      <td>0</td>\n",
       "      <td>Tuesday</td>\n",
       "    </tr>\n",
       "    <tr>\n",
       "      <th>49723</th>\n",
       "      <td>'C1471216995'</td>\n",
       "      <td>'3'</td>\n",
       "      <td>'F'</td>\n",
       "      <td>'M348934600'</td>\n",
       "      <td>'es_transportation'</td>\n",
       "      <td>38.11</td>\n",
       "      <td>0</td>\n",
       "      <td>Friday</td>\n",
       "    </tr>\n",
       "    <tr>\n",
       "      <th>...</th>\n",
       "      <td>...</td>\n",
       "      <td>...</td>\n",
       "      <td>...</td>\n",
       "      <td>...</td>\n",
       "      <td>...</td>\n",
       "      <td>...</td>\n",
       "      <td>...</td>\n",
       "      <td>...</td>\n",
       "    </tr>\n",
       "    <tr>\n",
       "      <th>178160</th>\n",
       "      <td>'C382789952'</td>\n",
       "      <td>'3'</td>\n",
       "      <td>'M'</td>\n",
       "      <td>'M348934600'</td>\n",
       "      <td>'es_transportation'</td>\n",
       "      <td>41.98</td>\n",
       "      <td>0</td>\n",
       "      <td>Saturday</td>\n",
       "    </tr>\n",
       "    <tr>\n",
       "      <th>134558</th>\n",
       "      <td>'C848738212'</td>\n",
       "      <td>'4'</td>\n",
       "      <td>'M'</td>\n",
       "      <td>'M348934600'</td>\n",
       "      <td>'es_transportation'</td>\n",
       "      <td>45.17</td>\n",
       "      <td>0</td>\n",
       "      <td>Saturday</td>\n",
       "    </tr>\n",
       "    <tr>\n",
       "      <th>159282</th>\n",
       "      <td>'C446179646'</td>\n",
       "      <td>'5'</td>\n",
       "      <td>'F'</td>\n",
       "      <td>'M348934600'</td>\n",
       "      <td>'es_transportation'</td>\n",
       "      <td>3.17</td>\n",
       "      <td>0</td>\n",
       "      <td>Sunday</td>\n",
       "    </tr>\n",
       "    <tr>\n",
       "      <th>3038</th>\n",
       "      <td>'C1298891864'</td>\n",
       "      <td>'2'</td>\n",
       "      <td>'F'</td>\n",
       "      <td>'M348934600'</td>\n",
       "      <td>'es_transportation'</td>\n",
       "      <td>24.30</td>\n",
       "      <td>0</td>\n",
       "      <td>Monday</td>\n",
       "    </tr>\n",
       "    <tr>\n",
       "      <th>234341</th>\n",
       "      <td>'C1738944491'</td>\n",
       "      <td>'2'</td>\n",
       "      <td>'M'</td>\n",
       "      <td>'M348934600'</td>\n",
       "      <td>'es_transportation'</td>\n",
       "      <td>7.16</td>\n",
       "      <td>0</td>\n",
       "      <td>Tuesday</td>\n",
       "    </tr>\n",
       "  </tbody>\n",
       "</table>\n",
       "<p>100000 rows × 8 columns</p>\n",
       "</div>"
      ],
      "text/plain": [
       "             customer  age gender       merchant             category  amount  \\\n",
       "70803    'C746862122'  '3'    'M'   'M348934600'  'es_transportation'   11.65   \n",
       "470791  'C1760492708'  '1'    'F'  'M1823072687'  'es_transportation'    1.60   \n",
       "568310  'C1984083185'  '3'    'F'  'M1823072687'  'es_transportation'   33.36   \n",
       "23709   'C1530262146'  '2'    'M'  'M1823072687'  'es_transportation'    8.01   \n",
       "49723   'C1471216995'  '3'    'F'   'M348934600'  'es_transportation'   38.11   \n",
       "...               ...  ...    ...            ...                  ...     ...   \n",
       "178160   'C382789952'  '3'    'M'   'M348934600'  'es_transportation'   41.98   \n",
       "134558   'C848738212'  '4'    'M'   'M348934600'  'es_transportation'   45.17   \n",
       "159282   'C446179646'  '5'    'F'   'M348934600'  'es_transportation'    3.17   \n",
       "3038    'C1298891864'  '2'    'F'   'M348934600'  'es_transportation'   24.30   \n",
       "234341  'C1738944491'  '2'    'M'   'M348934600'  'es_transportation'    7.16   \n",
       "\n",
       "        fraud       day  \n",
       "70803       0    Friday  \n",
       "470791      0  Saturday  \n",
       "568310      0  Thursday  \n",
       "23709       0   Tuesday  \n",
       "49723       0    Friday  \n",
       "...       ...       ...  \n",
       "178160      0  Saturday  \n",
       "134558      0  Saturday  \n",
       "159282      0    Sunday  \n",
       "3038        0    Monday  \n",
       "234341      0   Tuesday  \n",
       "\n",
       "[100000 rows x 8 columns]"
      ]
     },
     "execution_count": 25,
     "metadata": {},
     "output_type": "execute_result"
    }
   ],
   "source": [
    "bankdata_df"
   ]
  },
  {
   "cell_type": "code",
   "execution_count": 26,
   "metadata": {},
   "outputs": [
    {
     "data": {
      "text/plain": [
       "'C345742557'     51\n",
       "'C795132749'     51\n",
       "'C1275518867'    49\n",
       "'C1978250683'    48\n",
       "'C1514973352'    47\n",
       "                 ..\n",
       "'C1548873226'     1\n",
       "'C989137613'      1\n",
       "'C502238060'      1\n",
       "'C903333805'      1\n",
       "'C1562081159'     1\n",
       "Name: customer, Length: 4098, dtype: int64"
      ]
     },
     "execution_count": 26,
     "metadata": {},
     "output_type": "execute_result"
    }
   ],
   "source": [
    "bankdata_df['customer'].value_counts()"
   ]
  },
  {
   "cell_type": "markdown",
   "metadata": {},
   "source": [
    "## 2. Preprocessing the Data"
   ]
  },
  {
   "cell_type": "markdown",
   "metadata": {},
   "source": [
    "Next, I must preprocess the data to get it ready for the various modeling algorithms applicable for this type of classification problem. Preprocessing steps include:\n",
    "   - Creating the train and test datasets\n",
    "   - Applying SMOTE_NC to help alleviate the target class imbalance. SMOTE_NC can specifically be used on datasets that contain both continuous and categorical variables.\n",
    "   - Creating a pipeline that will apply standard scaler to continuous variables and one hot encode categorical variables, and then use column transformer\n",
    "   "
   ]
  },
  {
   "cell_type": "code",
   "execution_count": 34,
   "metadata": {},
   "outputs": [
    {
     "name": "stdout",
     "output_type": "stream",
     "text": [
      "<class 'pandas.core.frame.DataFrame'>\n",
      "Int64Index: 100000 entries, 70803 to 234341\n",
      "Data columns (total 8 columns):\n",
      " #   Column    Non-Null Count   Dtype  \n",
      "---  ------    --------------   -----  \n",
      " 0   customer  100000 non-null  object \n",
      " 1   age       100000 non-null  object \n",
      " 2   gender    100000 non-null  object \n",
      " 3   merchant  100000 non-null  object \n",
      " 4   category  100000 non-null  object \n",
      " 5   amount    100000 non-null  float64\n",
      " 6   fraud     100000 non-null  int64  \n",
      " 7   day       100000 non-null  object \n",
      "dtypes: float64(1), int64(1), object(6)\n",
      "memory usage: 6.9+ MB\n"
     ]
    }
   ],
   "source": [
    "bankdata_df.info()"
   ]
  },
  {
   "cell_type": "code",
   "execution_count": 35,
   "metadata": {},
   "outputs": [],
   "source": [
    "subpipe_num = Pipeline(steps=[\n",
    "    ('ss', StandardScaler())\n",
    "])\n",
    "\n",
    "\n",
    "subpipe_cat = Pipeline(steps=[\n",
    "    ('ohe', OneHotEncoder(sparse=False, handle_unknown='ignore'))\n",
    "])\n",
    "\n",
    "CT = ColumnTransformer(transformers = [\n",
    "    ('subpipe_num', subpipe_num, selector(dtype_include = np.number)),\n",
    "    ('subpipe_cat', subpipe_cat, selector(dtype_include = object))\n",
    "], remainder = 'passthrough')"
   ]
  },
  {
   "cell_type": "code",
   "execution_count": 36,
   "metadata": {},
   "outputs": [],
   "source": [
    "X = bankdata_df.drop(['fraud'],axis=1)\n",
    "y = bankdata_df['fraud']"
   ]
  },
  {
   "cell_type": "code",
   "execution_count": 37,
   "metadata": {},
   "outputs": [],
   "source": [
    "X_train, X_test, y_train, y_test = train_test_split(X, y, random_state=42)"
   ]
  },
  {
   "cell_type": "code",
   "execution_count": 38,
   "metadata": {},
   "outputs": [
    {
     "data": {
      "text/plain": [
       "0    74126\n",
       "1      874\n",
       "Name: fraud, dtype: int64"
      ]
     },
     "execution_count": 38,
     "metadata": {},
     "output_type": "execute_result"
    }
   ],
   "source": [
    "y_train.value_counts()"
   ]
  },
  {
   "cell_type": "markdown",
   "metadata": {},
   "source": [
    "Due to there being so few examples of fraud in the dataset (only 1.2%), I have applied SMOTENC below to increase the minority class of the train dataset to be at least 25% of the train majority class (i.e. not fraud)."
   ]
  },
  {
   "cell_type": "code",
   "execution_count": 40,
   "metadata": {},
   "outputs": [],
   "source": [
    "smote_nc = SMOTENC(categorical_features=[0,1,2,3,4,6],sampling_strategy=.5,random_state=42)\n",
    "X_resampled, y_resampled = smote_nc.fit_resample(X_train, y_train)\n"
   ]
  },
  {
   "cell_type": "code",
   "execution_count": 41,
   "metadata": {},
   "outputs": [
    {
     "data": {
      "text/plain": [
       "0    74126\n",
       "1    37063\n",
       "Name: fraud, dtype: int64"
      ]
     },
     "execution_count": 41,
     "metadata": {},
     "output_type": "execute_result"
    }
   ],
   "source": [
    "y_resampled.value_counts()"
   ]
  },
  {
   "cell_type": "code",
   "execution_count": 42,
   "metadata": {},
   "outputs": [
    {
     "data": {
      "text/plain": [
       "0    0.666667\n",
       "1    0.333333\n",
       "Name: fraud, dtype: float64"
      ]
     },
     "execution_count": 42,
     "metadata": {},
     "output_type": "execute_result"
    }
   ],
   "source": [
    "y_resampled.value_counts(normalize = True)"
   ]
  },
  {
   "cell_type": "markdown",
   "metadata": {},
   "source": [
    "Now the class is slightly more balanced, with 37,063 examples of the \"fraud\" target (or 33% of the sampled population)."
   ]
  },
  {
   "cell_type": "markdown",
   "metadata": {},
   "source": [
    "## 3. Modeling, Cross Validation and GridSearching"
   ]
  },
  {
   "cell_type": "markdown",
   "metadata": {},
   "source": [
    "I use the cross validation class taken from FlatIron lecture 51, and then apply certain types of classification models including:\n",
    "   - Dummy classifier\n",
    "   - Logistic Regression\n",
    "   - KNN\n",
    "   - Random Forest\n",
    "   - GradientBoost Classifier"
   ]
  },
  {
   "cell_type": "code",
   "execution_count": 43,
   "metadata": {},
   "outputs": [],
   "source": [
    "class ModelWithCV():\n",
    "    '''Structure to save the model and more easily see its crossvalidation'''\n",
    "    def __init__(self, model, model_name, X, y, cv_now=True):\n",
    "        self.model = model\n",
    "        self.name = model_name\n",
    "        self.X = X\n",
    "        self.y = y\n",
    "        # For CV results\n",
    "        self.cv_results = None\n",
    "        self.cv_mean = None\n",
    "        self.cv_median = None\n",
    "        self.cv_std = None\n",
    "        #\n",
    "        if cv_now:\n",
    "            self.cross_validate()\n",
    "        \n",
    "    def cross_validate(self, X=None, y=None, kfolds=10):\n",
    "        '''\n",
    "        Perform cross-validation and return results.\n",
    "        \n",
    "        Args: \n",
    "          X:\n",
    "            Optional; Training data to perform CV on. Otherwise use X from object\n",
    "          y:\n",
    "            Optional; Training data to perform CV on. Otherwise use y from object\n",
    "          kfolds:\n",
    "            Optional; Number of folds for CV (default is 10)  \n",
    "        '''\n",
    "        \n",
    "        cv_X = X if X else self.X\n",
    "        cv_y = y if y else self.y\n",
    "\n",
    "        self.cv_results = cross_val_score(self.model, cv_X, cv_y, cv=kfolds)\n",
    "        self.cv_mean = np.mean(self.cv_results)\n",
    "        self.cv_median = np.median(self.cv_results)\n",
    "        self.cv_std = np.std(self.cv_results)\n",
    "\n",
    "        \n",
    "    def print_cv_summary(self):\n",
    "        cv_summary = (\n",
    "        f'''CV Results for `{self.name}` model:\n",
    "            {self.cv_mean:.5f} ± {self.cv_std:.5f} accuracy\n",
    "        ''')\n",
    "        print(cv_summary)\n",
    "    \n",
    "    def cvmean(self):\n",
    "        cvmean2 = round(self.cv_mean,3)\n",
    "        print(cvmean2)"
   ]
  },
  {
   "cell_type": "code",
   "execution_count": 45,
   "metadata": {},
   "outputs": [
    {
     "name": "stdout",
     "output_type": "stream",
     "text": [
      "CV Results for `dummy model` model:\n",
      "            0.66667 ± 0.00004 accuracy\n",
      "        \n"
     ]
    }
   ],
   "source": [
    "dummy_model_pipe = Pipeline(steps= [\n",
    "    ('ct', CT),\n",
    "    ('dum', DummyClassifier(strategy = 'most_frequent'))\n",
    "])\n",
    "\n",
    "dummy_pipe = ModelWithCV(dummy_model_pipe, 'dummy model', X_resampled, y_resampled)\n",
    "dummy_pipe.print_cv_summary()"
   ]
  },
  {
   "cell_type": "code",
   "execution_count": 44,
   "metadata": {},
   "outputs": [
    {
     "name": "stdout",
     "output_type": "stream",
     "text": [
      "CV Results for `logreg_model` model:\n",
      "            0.99560 ± 0.00092 accuracy\n",
      "        \n"
     ]
    }
   ],
   "source": [
    "logreg_model_pipe = Pipeline([\n",
    "    ('ct', CT),\n",
    "    ('logreg', LogisticRegression(random_state=42, max_iter=5000))\n",
    "])\n",
    "\n",
    "#I set max_iter to 5,000, as i received errors when I left max_iter at the default value of 100.\n",
    "#5,000 seems to work well and provide a good average accuracy score.\n",
    "\n",
    "logreg_pipe = ModelWithCV(logreg_model_pipe,'logreg_model', X_resampled, y_resampled)\n",
    "logreg_pipe.print_cv_summary()"
   ]
  },
  {
   "cell_type": "code",
   "execution_count": null,
   "metadata": {},
   "outputs": [],
   "source": [
    "knn_model_pipe = Pipeline([\n",
    "    ('ct',CT),\n",
    "    ('knn',KNeighborsClassifier())\n",
    "])\n",
    "\n",
    "knn_pipe = ModelWithCV(knn_model_pipe,'knn_model', X_resampled, y_resampled)\n",
    "knn_pipe.print_cv_summary()"
   ]
  },
  {
   "cell_type": "code",
   "execution_count": null,
   "metadata": {},
   "outputs": [],
   "source": [
    "rfc_model_pipe = Pipeline([\n",
    "    ('ct',CT),\n",
    "    ('rfc',RandomForestClassifier(random_state = 42,max_depth=9))\n",
    "])\n",
    "\n",
    "rfc_pipe = ModelWithCV(rfc_model_pipe,'rfc_model', X_resampled, y_resampled)\n",
    "rfc_pipe.print_cv_summary()"
   ]
  },
  {
   "cell_type": "code",
   "execution_count": null,
   "metadata": {},
   "outputs": [],
   "source": [
    "gbc_model_pipe = Pipeline([\n",
    "    ('ct',CT),\n",
    "    ('gbc',GradientBoostingClassifier(random_state = 42))\n",
    "])\n",
    "\n",
    "gbc_pipe = ModelWithCV(gbc_model_pipe,'gbc_model', X_resampled, y_resampled)\n",
    "gbc_pipe.print_cv_summary()"
   ]
  },
  {
   "cell_type": "code",
   "execution_count": null,
   "metadata": {},
   "outputs": [],
   "source": [
    "CV_Mean_Score = [dummy_pipe.cv_mean, logreg_pipe.cv_mean,\n",
    "rfc_pipe.cv_mean,\n",
    "gbc_pipe.cv_mean,\n",
    "knn_pipe.cv_mean]\n",
    "\n",
    "CV_STD = [dummy_pipe.cv_std, logreg_pipe.cv_std,\n",
    "rfc_pipe.cv_std,\n",
    "gbc_pipe.cv_std,\n",
    "knn_pipe.cv_std]\n",
    "\n",
    "Model_Type = ['Dummy Classifier', 'Logistic Regression','Random Forest Classifier','Gradient Boosting Classifier',\n",
    "'KNN']\n",
    "\n",
    "data = {'Model Type':Model_Type, 'CV Mean Score':CV_Mean_Score, 'CV STD':CV_STD}\n",
    "df_score = pd.DataFrame(data)\n",
    "\n",
    "df_score.sort_values(by='CV Mean Score', ascending=False).reset_index(drop=True)"
   ]
  },
  {
   "cell_type": "markdown",
   "metadata": {},
   "source": [
    "### Apply Gridsearch to LogReg, RFC and KNN, which had very high accuracy scores"
   ]
  },
  {
   "cell_type": "markdown",
   "metadata": {},
   "source": [
    "I applied GridSearch to the logreg pipeline, as it had the highest average accuracy score when compared to the other classification models. Initially, I tried to gridsearch on all 4 'penalty' hyperparameter options, along with certain 'solver' hyperparameter options, but certain of these parameters cannot be used together and the GridSearch wouldfail. Therefore, I simply applied the 'l2' and 'none' hyperparameter options to identify the better model."
   ]
  },
  {
   "cell_type": "code",
   "execution_count": null,
   "metadata": {},
   "outputs": [],
   "source": [
    "#Tuning and Cross Validating of RFC. Here we add in some of the important selection criteria for RFC.\n",
    "logreg_params = {}\n",
    "logreg_params['logreg__penalty']=['l2','none']\n",
    "#logreg_params['logreg__solver']= ['lbfgs', 'sag', 'saga']\n",
    "#'elasticnet', 'l1',\n",
    "\n",
    "gs_logreg = GridSearchCV(logreg_model_pipe, logreg_params, cv=5, verbose=1)\n",
    "gs_logreg.fit(X_resampled, y_resampled)\n",
    "gs_logreg.best_params_"
   ]
  },
  {
   "cell_type": "code",
   "execution_count": null,
   "metadata": {},
   "outputs": [],
   "source": [
    "gs_logreg.best_score_"
   ]
  },
  {
   "cell_type": "code",
   "execution_count": 45,
   "metadata": {},
   "outputs": [
    {
     "data": {
      "text/plain": [
       "Pipeline(steps=[('ct',\n",
       "                 ColumnTransformer(remainder='passthrough',\n",
       "                                   transformers=[('subpipe_num',\n",
       "                                                  Pipeline(steps=[('ss',\n",
       "                                                                   StandardScaler())]),\n",
       "                                                  <sklearn.compose._column_transformer.make_column_selector object at 0x000001E22568DF70>),\n",
       "                                                 ('subpipe_cat',\n",
       "                                                  Pipeline(steps=[('ohe',\n",
       "                                                                   OneHotEncoder(handle_unknown='ignore',\n",
       "                                                                                 sparse=False))]),\n",
       "                                                  <sklearn.compose._column_transformer.make_column_selector object at 0x000001E22568DFA0>)])),\n",
       "                ('logreg',\n",
       "                 LogisticRegression(max_iter=5000, penalty='none',\n",
       "                                    random_state=42))])"
      ]
     },
     "execution_count": 45,
     "metadata": {},
     "output_type": "execute_result"
    }
   ],
   "source": [
    "Final_logreg_model_pipe = Pipeline([\n",
    "    ('ct', CT),\n",
    "    ('logreg', LogisticRegression(random_state=42, max_iter=5000, penalty='none'))\n",
    "])\n",
    "\n",
    "Final_logreg_model_pipe.fit(X_resampled, y_resampled)"
   ]
  },
  {
   "cell_type": "code",
   "execution_count": 48,
   "metadata": {},
   "outputs": [],
   "source": [
    "pickle.dump(Final_logreg_model_pipe,open(\"./pickled models/final_logreg_fraud_model.sav\",'wb'))"
   ]
  },
  {
   "cell_type": "code",
   "execution_count": 47,
   "metadata": {},
   "outputs": [
    {
     "data": {
      "text/plain": [
       "0.99344"
      ]
     },
     "execution_count": 47,
     "metadata": {},
     "output_type": "execute_result"
    }
   ],
   "source": [
    "Final_logreg_model_pipe.score(X_test, y_test)"
   ]
  },
  {
   "cell_type": "markdown",
   "metadata": {},
   "source": [
    "I also ran gridsearches on the RFC and KNN pipelines, but have inserted markdowns below as it would take a couple of hours to run each. Logistic Regression pipeline still resulted with the highest test score."
   ]
  },
  {
   "cell_type": "code",
   "execution_count": null,
   "metadata": {},
   "outputs": [],
   "source": [
    "rfc_params = {}\n",
    "rfc_params['rfc__criterion'] = ['gini','entropy']\n",
    "rfc_params['rfc__min_samples_leaf'] = [5,10,15]\n",
    "rfc_params['rfc__max_depth'] = [5,7,9]\n",
    "\n",
    "gs_rfc = GridSearchCV(rfc_model_pipe, rfc_params, cv=5, verbose=1)\n",
    "gs_rfc.fit(X_resampled, y_resampled)\n",
    "gs_rfc.best_params_"
   ]
  },
  {
   "cell_type": "code",
   "execution_count": null,
   "metadata": {},
   "outputs": [],
   "source": [
    "gs_rfc.best_score_"
   ]
  },
  {
   "cell_type": "code",
   "execution_count": null,
   "metadata": {},
   "outputs": [],
   "source": []
  },
  {
   "cell_type": "code",
   "execution_count": null,
   "metadata": {},
   "outputs": [],
   "source": []
  },
  {
   "cell_type": "code",
   "execution_count": null,
   "metadata": {},
   "outputs": [],
   "source": [
    "# knn_params = {}\n",
    "# knn_params['knn__n_neighbors']=[300,500,700]\n",
    "# knn_params['knn__weights']=['uniform','distance']\n",
    "# knn_params['knn__algorithm']='auto',\n",
    "# knn_params['knn__leaf_size']=[5000,10000]\n",
    "# knn_params['knn__p']=[1,2]\n",
    "\n",
    "# gs_knn = GridSearchCV(knn_model_pipe, knn_params, cv=5, verbose=1)\n",
    "# gs_knn.fit(X_resampled, y_resampled)\n",
    "# gs_knn.best_params_"
   ]
  },
  {
   "cell_type": "code",
   "execution_count": null,
   "metadata": {},
   "outputs": [],
   "source": [
    "# gs_knn.best_score_"
   ]
  },
  {
   "cell_type": "code",
   "execution_count": null,
   "metadata": {},
   "outputs": [],
   "source": []
  },
  {
   "cell_type": "markdown",
   "metadata": {},
   "source": [
    "## 4. Final Classification Model - Confusion Matrix"
   ]
  },
  {
   "cell_type": "code",
   "execution_count": null,
   "metadata": {},
   "outputs": [],
   "source": [
    "y_hat = Final_logreg_model_pipe.predict(X_test)"
   ]
  },
  {
   "cell_type": "code",
   "execution_count": null,
   "metadata": {},
   "outputs": [],
   "source": [
    "print(classification_report(y_test,y_hat))"
   ]
  },
  {
   "cell_type": "code",
   "execution_count": null,
   "metadata": {},
   "outputs": [],
   "source": [
    "#Plot a confusion matric on actual and preditions of the test data.\n",
    "ax = plt.subplot()\n",
    "sns.set(font_scale=1) # Adjust to fit\n",
    "\n",
    "plot_confusion_matrix(Final_logreg_model_pipe, X_test, y_test, ax=ax,  cmap = plt.cm.Greys, display_labels=['Not Fraud','Fraud'])\n",
    "\n",
    "# Labels, title and ticks\n",
    "label_font = {'size':'16'}  # Adjust to fit\n",
    "ax.set_xlabel('Predicted labels', fontdict=label_font);\n",
    "ax.set_ylabel('Observed labels', fontdict=label_font);\n",
    "ax.grid(b=False);\n",
    "\n",
    "title_font = {'size':'16'}  # Adjust to fit\n",
    "ax.set_title('Confusion Matrix', fontdict=title_font);\n",
    "\n",
    "plt.savefig('./graphs/Confusion Matrix')\n",
    "\n",
    "plt.show()"
   ]
  },
  {
   "cell_type": "code",
   "execution_count": null,
   "metadata": {},
   "outputs": [],
   "source": []
  },
  {
   "cell_type": "code",
   "execution_count": null,
   "metadata": {},
   "outputs": [],
   "source": []
  },
  {
   "cell_type": "markdown",
   "metadata": {},
   "source": [
    "## 5. Applying Final Model to Additional Unseen and Untested Fraudulent Payment Data"
   ]
  },
  {
   "cell_type": "code",
   "execution_count": null,
   "metadata": {},
   "outputs": [],
   "source": [
    "sample_df = pd.read_csv(\"./source data/sample_transactions2.csv\")\n",
    "sample_df_2 = sample_df[['step','customer','age','gender','merchant','category','amount']]\n",
    "\n",
    "loaded_model = pickle.load(open(\"final_logreg_fraud_model.sav\", 'rb'))\n",
    "\n",
    "preds = loaded_model.predict(sample_df_2)\n",
    "preds_proba = loaded_model.predict_proba(sample_df_2)\n",
    "df_prediction = pd.DataFrame(zip(preds,preds_proba[:,1]*100),columns=['Fraud Prediction','Probability(%)'])\n",
    "df_prediction['Potentially Fraudulent?'] = np.where(df_prediction['Fraud Prediction'] == 1, 'Yes', 'No')\n",
    "df_combined = sample_df.join(df_prediction)\n"
   ]
  },
  {
   "cell_type": "code",
   "execution_count": null,
   "metadata": {},
   "outputs": [],
   "source": [
    "pd.set_option('display.float_format', lambda x: '%.2f' % x)\n",
    "df_combined.sort_values(by='Fraud Prediction', ascending = True).head(40)"
   ]
  },
  {
   "cell_type": "code",
   "execution_count": null,
   "metadata": {},
   "outputs": [],
   "source": [
    "count_fraud_prediction = len(df_combined[df_combined['Fraud Prediction'] == 1])\n",
    "print (f'Out of 100 fraudulent transactions in the sample_transactions2.csv file, my final model correctly identified {count_fraud_prediction} transactions as being fraudulent')"
   ]
  },
  {
   "cell_type": "code",
   "execution_count": 10,
   "metadata": {},
   "outputs": [],
   "source": []
  },
  {
   "cell_type": "code",
   "execution_count": 11,
   "metadata": {},
   "outputs": [],
   "source": [
    "    \n"
   ]
  },
  {
   "cell_type": "code",
   "execution_count": 12,
   "metadata": {},
   "outputs": [
    {
     "data": {
      "text/html": [
       "<div>\n",
       "<style scoped>\n",
       "    .dataframe tbody tr th:only-of-type {\n",
       "        vertical-align: middle;\n",
       "    }\n",
       "\n",
       "    .dataframe tbody tr th {\n",
       "        vertical-align: top;\n",
       "    }\n",
       "\n",
       "    .dataframe thead th {\n",
       "        text-align: right;\n",
       "    }\n",
       "</style>\n",
       "<table border=\"1\" class=\"dataframe\">\n",
       "  <thead>\n",
       "    <tr style=\"text-align: right;\">\n",
       "      <th></th>\n",
       "      <th>step</th>\n",
       "      <th>customer</th>\n",
       "      <th>age</th>\n",
       "      <th>gender</th>\n",
       "      <th>zipcodeOri</th>\n",
       "      <th>merchant</th>\n",
       "      <th>zipMerchant</th>\n",
       "      <th>category</th>\n",
       "      <th>amount</th>\n",
       "      <th>fraud</th>\n",
       "      <th>day</th>\n",
       "    </tr>\n",
       "  </thead>\n",
       "  <tbody>\n",
       "    <tr>\n",
       "      <th>70803</th>\n",
       "      <td>26</td>\n",
       "      <td>'C746862122'</td>\n",
       "      <td>'3'</td>\n",
       "      <td>'M'</td>\n",
       "      <td>'28007'</td>\n",
       "      <td>'M348934600'</td>\n",
       "      <td>'28007'</td>\n",
       "      <td>'es_transportation'</td>\n",
       "      <td>11.65</td>\n",
       "      <td>0</td>\n",
       "      <td>Friday</td>\n",
       "    </tr>\n",
       "    <tr>\n",
       "      <th>470791</th>\n",
       "      <td>146</td>\n",
       "      <td>'C1760492708'</td>\n",
       "      <td>'1'</td>\n",
       "      <td>'F'</td>\n",
       "      <td>'28007'</td>\n",
       "      <td>'M1823072687'</td>\n",
       "      <td>'28007'</td>\n",
       "      <td>'es_transportation'</td>\n",
       "      <td>1.60</td>\n",
       "      <td>0</td>\n",
       "      <td>Saturday</td>\n",
       "    </tr>\n",
       "    <tr>\n",
       "      <th>568310</th>\n",
       "      <td>172</td>\n",
       "      <td>'C1984083185'</td>\n",
       "      <td>'3'</td>\n",
       "      <td>'F'</td>\n",
       "      <td>'28007'</td>\n",
       "      <td>'M1823072687'</td>\n",
       "      <td>'28007'</td>\n",
       "      <td>'es_transportation'</td>\n",
       "      <td>33.36</td>\n",
       "      <td>0</td>\n",
       "      <td>Thursday</td>\n",
       "    </tr>\n",
       "    <tr>\n",
       "      <th>23709</th>\n",
       "      <td>9</td>\n",
       "      <td>'C1530262146'</td>\n",
       "      <td>'2'</td>\n",
       "      <td>'M'</td>\n",
       "      <td>'28007'</td>\n",
       "      <td>'M1823072687'</td>\n",
       "      <td>'28007'</td>\n",
       "      <td>'es_transportation'</td>\n",
       "      <td>8.01</td>\n",
       "      <td>0</td>\n",
       "      <td>Tuesday</td>\n",
       "    </tr>\n",
       "    <tr>\n",
       "      <th>49723</th>\n",
       "      <td>19</td>\n",
       "      <td>'C1471216995'</td>\n",
       "      <td>'3'</td>\n",
       "      <td>'F'</td>\n",
       "      <td>'28007'</td>\n",
       "      <td>'M348934600'</td>\n",
       "      <td>'28007'</td>\n",
       "      <td>'es_transportation'</td>\n",
       "      <td>38.11</td>\n",
       "      <td>0</td>\n",
       "      <td>Friday</td>\n",
       "    </tr>\n",
       "    <tr>\n",
       "      <th>...</th>\n",
       "      <td>...</td>\n",
       "      <td>...</td>\n",
       "      <td>...</td>\n",
       "      <td>...</td>\n",
       "      <td>...</td>\n",
       "      <td>...</td>\n",
       "      <td>...</td>\n",
       "      <td>...</td>\n",
       "      <td>...</td>\n",
       "      <td>...</td>\n",
       "      <td>...</td>\n",
       "    </tr>\n",
       "    <tr>\n",
       "      <th>178160</th>\n",
       "      <td>62</td>\n",
       "      <td>'C382789952'</td>\n",
       "      <td>'3'</td>\n",
       "      <td>'M'</td>\n",
       "      <td>'28007'</td>\n",
       "      <td>'M348934600'</td>\n",
       "      <td>'28007'</td>\n",
       "      <td>'es_transportation'</td>\n",
       "      <td>41.98</td>\n",
       "      <td>0</td>\n",
       "      <td>Saturday</td>\n",
       "    </tr>\n",
       "    <tr>\n",
       "      <th>134558</th>\n",
       "      <td>48</td>\n",
       "      <td>'C848738212'</td>\n",
       "      <td>'4'</td>\n",
       "      <td>'M'</td>\n",
       "      <td>'28007'</td>\n",
       "      <td>'M348934600'</td>\n",
       "      <td>'28007'</td>\n",
       "      <td>'es_transportation'</td>\n",
       "      <td>45.17</td>\n",
       "      <td>0</td>\n",
       "      <td>Saturday</td>\n",
       "    </tr>\n",
       "    <tr>\n",
       "      <th>159282</th>\n",
       "      <td>56</td>\n",
       "      <td>'C446179646'</td>\n",
       "      <td>'5'</td>\n",
       "      <td>'F'</td>\n",
       "      <td>'28007'</td>\n",
       "      <td>'M348934600'</td>\n",
       "      <td>'28007'</td>\n",
       "      <td>'es_transportation'</td>\n",
       "      <td>3.17</td>\n",
       "      <td>0</td>\n",
       "      <td>Sunday</td>\n",
       "    </tr>\n",
       "    <tr>\n",
       "      <th>3038</th>\n",
       "      <td>1</td>\n",
       "      <td>'C1298891864'</td>\n",
       "      <td>'2'</td>\n",
       "      <td>'F'</td>\n",
       "      <td>'28007'</td>\n",
       "      <td>'M348934600'</td>\n",
       "      <td>'28007'</td>\n",
       "      <td>'es_transportation'</td>\n",
       "      <td>24.30</td>\n",
       "      <td>0</td>\n",
       "      <td>Monday</td>\n",
       "    </tr>\n",
       "    <tr>\n",
       "      <th>234341</th>\n",
       "      <td>79</td>\n",
       "      <td>'C1738944491'</td>\n",
       "      <td>'2'</td>\n",
       "      <td>'M'</td>\n",
       "      <td>'28007'</td>\n",
       "      <td>'M348934600'</td>\n",
       "      <td>'28007'</td>\n",
       "      <td>'es_transportation'</td>\n",
       "      <td>7.16</td>\n",
       "      <td>0</td>\n",
       "      <td>Tuesday</td>\n",
       "    </tr>\n",
       "  </tbody>\n",
       "</table>\n",
       "<p>100000 rows × 11 columns</p>\n",
       "</div>"
      ],
      "text/plain": [
       "        step       customer  age gender zipcodeOri       merchant zipMerchant  \\\n",
       "70803     26   'C746862122'  '3'    'M'    '28007'   'M348934600'     '28007'   \n",
       "470791   146  'C1760492708'  '1'    'F'    '28007'  'M1823072687'     '28007'   \n",
       "568310   172  'C1984083185'  '3'    'F'    '28007'  'M1823072687'     '28007'   \n",
       "23709      9  'C1530262146'  '2'    'M'    '28007'  'M1823072687'     '28007'   \n",
       "49723     19  'C1471216995'  '3'    'F'    '28007'   'M348934600'     '28007'   \n",
       "...      ...            ...  ...    ...        ...            ...         ...   \n",
       "178160    62   'C382789952'  '3'    'M'    '28007'   'M348934600'     '28007'   \n",
       "134558    48   'C848738212'  '4'    'M'    '28007'   'M348934600'     '28007'   \n",
       "159282    56   'C446179646'  '5'    'F'    '28007'   'M348934600'     '28007'   \n",
       "3038       1  'C1298891864'  '2'    'F'    '28007'   'M348934600'     '28007'   \n",
       "234341    79  'C1738944491'  '2'    'M'    '28007'   'M348934600'     '28007'   \n",
       "\n",
       "                   category  amount  fraud       day  \n",
       "70803   'es_transportation'   11.65      0    Friday  \n",
       "470791  'es_transportation'    1.60      0  Saturday  \n",
       "568310  'es_transportation'   33.36      0  Thursday  \n",
       "23709   'es_transportation'    8.01      0   Tuesday  \n",
       "49723   'es_transportation'   38.11      0    Friday  \n",
       "...                     ...     ...    ...       ...  \n",
       "178160  'es_transportation'   41.98      0  Saturday  \n",
       "134558  'es_transportation'   45.17      0  Saturday  \n",
       "159282  'es_transportation'    3.17      0    Sunday  \n",
       "3038    'es_transportation'   24.30      0    Monday  \n",
       "234341  'es_transportation'    7.16      0   Tuesday  \n",
       "\n",
       "[100000 rows x 11 columns]"
      ]
     },
     "execution_count": 12,
     "metadata": {},
     "output_type": "execute_result"
    }
   ],
   "source": [
    "bankdata_df"
   ]
  },
  {
   "cell_type": "code",
   "execution_count": null,
   "metadata": {},
   "outputs": [],
   "source": []
  }
 ],
 "metadata": {
  "kernelspec": {
   "display_name": "Python (learn-env)",
   "language": "python",
   "name": "learn-env"
  },
  "language_info": {
   "codemirror_mode": {
    "name": "ipython",
    "version": 3
   },
   "file_extension": ".py",
   "mimetype": "text/x-python",
   "name": "python",
   "nbconvert_exporter": "python",
   "pygments_lexer": "ipython3",
   "version": "3.8.5"
  }
 },
 "nbformat": 4,
 "nbformat_minor": 4
}
